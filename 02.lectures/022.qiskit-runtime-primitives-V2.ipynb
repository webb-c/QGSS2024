{
 "cells": [
  {
   "cell_type": "markdown",
   "metadata": {},
   "source": [
    "# Lecture 1.2: Qiskit runtime primitive V2\n",
    "from IBM Quantum Computing QGSS2024"
   ]
  },
  {
   "cell_type": "markdown",
   "metadata": {},
   "source": [
    "### Qiskit Runtime\n",
    "\n",
    "Qiskit Runtime service는 local에서 Qiskit Runtime API를 이용하여 프로그래밍한 코드에서 Primitive를 사용하면, 서버에서 실제로 그 프로그램을 수행시켜 Quantum Hardware를 사용할 수 있게 하는 service이다. \n",
    "\n",
    "제공하는 Primitive는 크게 2가지 종류가 있는데, **Sampler primitive**와 **Estimator primitive**이다."
   ]
  },
  {
   "cell_type": "markdown",
   "metadata": {},
   "source": [
    "## Sampler primitive\n",
    "\n",
    "Sampler primitive는 가장 기본적인 measurement방법인 **Pauli-Z** gate를 사용한 측정을 수행한다. 한번의 측정에 대한 결과(outcome)을 return하며, 여러번의 measurement를 수행할 수도 있다.  \n",
    "\n",
    "Quantum Circuit에서 반드시 measurement를 직접 추가헤주어야한다.  \n",
    "\n",
    "\n",
    "대표적인 특징을 정리하면 다음과같다.\n",
    "- low-level execution\n",
    "- measurement의 outcome을 반환한다.\n",
    "- circuit자체에 measurement가 추가되어있어야한다."
   ]
  },
  {
   "cell_type": "markdown",
   "metadata": {},
   "source": [
    "### Sampler API\n",
    "\n",
    "Sampler 클래스의 인스턴스를 생성하고, `.run()`메소드를 호출하여 Sampler primitive를 이용할 수 있다.\n",
    "- pubs: `pub`들의 리스트. pub은 Primitive Unified Blocs를 의미하며, Sampler가 수행할 하나의 작업단위를 의미한다.\n",
    "- shots: `pub`에 대해 몇 번의 measurement를 수행할 것인지를 의미하는 값. (pub 내부에 shot이 정의되지 않은 경우에만 적용된다; overide 불가)\n",
    "\n",
    "```python\n",
    "Sampler.run(\n",
    "    pubs: list[SamplerPubLike],\n",
    "    shots: int | None = None,\n",
    ") -> Job[SamplerResult]\n",
    "```\n",
    "\n",
    "`pub`은 보통 다음과 같은 **튜플** 형태로 정의된다.\n",
    "- circuit: 실행할 quantum circuit. **transpile**을 진행하여 ISA circuit 형태여야한다.\n",
    "- parameter_values: 특정 parameter에 의해 operator의 값이 변화하는 등의 parameterized circuit에서 사용할 parameter의 값. ND-array 형태로 전달한다.\n",
    "- shots: 해당 quantum circuit에서 몇 번의 measurement를 수행할 것인지를 의미하는 값.\n",
    "\n",
    "```python\n",
    "pub = (circuit [required],\n",
    "        parameter_values [optional])  # new option (V2)\n",
    "        shots [optional])\n",
    "```"
   ]
  },
  {
   "cell_type": "markdown",
   "metadata": {},
   "source": [
    "### Example \n",
    "*Run a simple Bell-state measurement circuit*"
   ]
  },
  {
   "cell_type": "code",
   "execution_count": 1,
   "metadata": {},
   "outputs": [
    {
     "name": "stderr",
     "output_type": "stream",
     "text": [
      "/var/folders/_1/vyxw8wlj1wn0fhb6pl64k4lm0000gn/T/ipykernel_24866/2388138786.py:7: DeprecationWarning: The get_backend() method is deprecated as of qiskit-ibm-runtime 0.24 and will be removed no sooner than 3 months after the release date. Please use backend() instead.\n",
      "  backend = service.get_backend(\"ibm_osaka\")\n"
     ]
    }
   ],
   "source": [
    "from qiskit_ibm_runtime import QiskitRuntimeService\n",
    "\n",
    "# Load saved runtime account\n",
    "service = QiskitRuntimeService()\n",
    "\n",
    "# Select a backend\n",
    "backend = service.get_backend(\"ibm_osaka\")"
   ]
  },
  {
   "cell_type": "code",
   "execution_count": null,
   "metadata": {},
   "outputs": [],
   "source": [
    "from qiskit import QuantumCircuit, transpile\n",
    "\n",
    "# create a Bell circuit\n",
    "bell_meas = QuantumCircuit(2)\n",
    "bell_meas.h(0)\n",
    "bell_meas.cx(0, 1)\n",
    "bell_meas.measure_all()\n",
    "bell_meas.draw(\"mpl\")\n",
    "\n",
    "# Transpile to an ISA Circuit for the intended backend\n",
    "isa_bell_meas = transpile(bell_meas, backend)\n",
    "\n",
    "# Construct pub and run\n",
    "pub_bell_meas = (isa_bell_meas, )"
   ]
  },
  {
   "cell_type": "code",
   "execution_count": 3,
   "metadata": {},
   "outputs": [],
   "source": [
    "from qiskit_ibm_runtime import SamplerV2 as Sampler\n",
    "\n",
    "# Initialize a sampler for the backend and run\n",
    "sampler = Sampler(backend)\n",
    "job_bell_meas = sampler.run([pub_bell_meas], shots=10)\n",
    "\n",
    "# Extract results\n",
    "result_bell_meas = job_bell_meas.result()\n",
    "data_bell_meas = result_bell_meas[0].data\n",
    "data_bell_meas"
   ]
  },
  {
   "cell_type": "code",
   "execution_count": null,
   "metadata": {},
   "outputs": [],
   "source": [
    "bits = data_bell_meas.meas\n",
    "print(\"shape:\", bits.shape)\n",
    "print(\"num_bits:\", bits.num_bits)\n",
    "print(\"num_shots:\", bits.num_shots)\n",
    "print(\"array:\\n\", bits.array)"
   ]
  },
  {
   "cell_type": "code",
   "execution_count": null,
   "metadata": {},
   "outputs": [],
   "source": [
    "bitstrings = bits.get_bitstrings()\n",
    "print(bitstrings)"
   ]
  },
  {
   "cell_type": "code",
   "execution_count": null,
   "metadata": {},
   "outputs": [],
   "source": [
    "counts = bits.get_counts()\n",
    "print(counts)"
   ]
  },
  {
   "cell_type": "markdown",
   "metadata": {},
   "source": [
    "### Parametric Example \n",
    "*Control 2-qubit entanglement via parameter*"
   ]
  },
  {
   "cell_type": "code",
   "execution_count": null,
   "metadata": {},
   "outputs": [],
   "source": [
    "import numpy as np\n",
    "from qiskit import Parameter\n",
    "\n",
    "# parameterized circuit\n",
    "theta = Parameter(\"θ\")\n",
    "\n",
    "par_bell_meas = QuantumCircuit(2)\n",
    "par_bell_meas.ry(theta, 0)\n",
    "par_bell_meas.cx(0, 1)\n",
    "par_bell_meas.measure_all()\n",
    "par_bell_meas.draw(\"mpl\")\n",
    "\n",
    "# Parameter values to evaluate with 20 theta values\n",
    "param_vals = np.linspace(0, np.pi, 20)\n",
    "\n",
    "# Transpile to an ISA Circuit for the intended backend\n",
    "isa_par_bell_meas = transpile(par_bell_meas, backend)\n",
    "\n",
    "\n",
    "# Construct pub and run\n",
    "# Pub and result shape is (20,)\n",
    "pub_par_bell_meas = (isa_par_bell_meas, param_vals)\n",
    "job_par_bell_meas = sampler.run([pub_par_bell_meas], shot=1000)\n",
    "result_par_bell_meas = job_par_bell_meas.result()\n",
    "\n",
    "# Extract result data\n",
    "bits = result_par_bell_meas[0].data.meas\n",
    "bits"
   ]
  },
  {
   "cell_type": "code",
   "execution_count": null,
   "metadata": {},
   "outputs": [],
   "source": [
    "import matplotlib.pyplot as plt\n",
    "import seaborn # type: ignore\n",
    "\n",
    "# Compute the probability of \"00\" outcome and \"11\" outcome\n",
    "p0s = np.sum(bits.array == 0, axis=1) / bits.num_shots\n",
    "p1s = np.sum(bits.array == 3, axis=1) / bits.num_shots\n",
    "\n",
    "plt.plot(param_vals, p0s, label=\"P('00')\")\n",
    "plt.plot(param_vals, p1s, label=\"P('11')\")\n",
    "plt.xlabel(\"0\")\n",
    "plt.legend()\n",
    "plt.show()"
   ]
  },
  {
   "cell_type": "markdown",
   "metadata": {},
   "source": [
    "### *About Shots*\n",
    "\n",
    "shot이라는 option은 pub에서도, Sampler에서도 지정할 수 있다.  \n",
    "- Sampler의 shot은 pub내부에서 shot이 지정되지 않았을 때 적용된다.\n",
    "- 두 option 모두 정의되지 않았을 때는, Qiskit에서 정해둔 default value를 이용한다."
   ]
  },
  {
   "cell_type": "code",
   "execution_count": null,
   "metadata": {},
   "outputs": [],
   "source": [
    "# 1. All shots in pub\n",
    "pub1a = (isa_bell_meas, None, 100) \n",
    "pub1b = (isa_bell_meas, None, 100) \n",
    "\n",
    "result1 = sampler.run([pub1a, pub1b], shots=1000).result()\n",
    "\n",
    "for i, res in enumerate(result1):\n",
    "    print(f\"Pub {i}: num_shots = {res.data.meas.num_shots}\")"
   ]
  },
  {
   "cell_type": "code",
   "execution_count": null,
   "metadata": {},
   "outputs": [],
   "source": [
    "# 2. Fall back to 'run' shots\n",
    "pub2a = (isa_bell_meas,)\n",
    "pub2b = (isa_bell_meas, None, 200)\n",
    "\n",
    "result2 = sampler.run([pub2a, pub2b], shots=1000).result()\n",
    "\n",
    "for i, res in enumerate(result2):\n",
    "    print(f\"Pub {i}: num_shots = {res.data.meas.num_shots}\")"
   ]
  },
  {
   "cell_type": "code",
   "execution_count": null,
   "metadata": {},
   "outputs": [],
   "source": [
    "# 3. Fall back to default shots\n",
    "pub3a = (isa_bell_meas,)\n",
    "pub3b = (isa_bell_meas, None, 200)\n",
    "\n",
    "result3 = sampler.run([pub3a, pub3b]).result()\n",
    "\n",
    "for i, res in enumerate(result3):\n",
    "    print(f\"Pub {i}: num_shots = {res.data.meas.num_shots}\")"
   ]
  },
  {
   "cell_type": "markdown",
   "metadata": {},
   "source": [
    "## Estimator primitive\n",
    "\n",
    "Estimator primitive 방법은 기본적인 measurement가 아닌 다른 방식의 measurement를 수행할 수 있으며, measurement에 사용할 operation을 **observable**로서 지정해줄 수 있다. \n",
    "\n",
    "observable을 수행할 qubit의 인덱스에는 해당 operator를, observable을 수행하지 않을 qubit의 인덱스에는 아무런 연산도 하지않는 operator인 **Identity matrix**를 기입하여 Observable을 지정할 수 있다.\n",
    "\n",
    "실행결과로 observable의 expectation value, std를 반환하기 때문에 더 higher level의 execution이다.\n",
    "\n",
    "\n",
    "대표적인 특징을 정리하면 다음과같다.\n",
    "- high-level execution\n",
    "- observable의 expectation value, std를 반환한다.\n",
    "- circuit자체에 measurement가 없어야한다."
   ]
  },
  {
   "cell_type": "markdown",
   "metadata": {},
   "source": [
    "### Estimator API\n",
    "\n",
    "Estimator 클래스의 인스턴스를 생성하고, `.run()`메소드를 호출하여 Estimator primitive를 이용할 수 있다.\n",
    "- pubs: `pub`들의 리스트. pub은 Primitive Unified Blocs를 의미하며, Sampler가 수행할 하나의 작업단위를 의미한다.\n",
    "- precision: `pub`에 대해 작업을 수행하여 observable의 expectation value, std를 얻을 때의 정확도. (pub 내부에 precision이 정의되지 않은 경우에만 적용된다; overide 불가)\n",
    "\n",
    "```python\n",
    "Estimator.run(\n",
    "    pubs: list[EstimatorPub],\n",
    "    precision: float | None = None,\n",
    ") -> Job[EstimatorResult]\n",
    "```\n",
    "\n",
    "`pub`은 보통 다음과 같은 **튜플** 형태로 정의된다.\n",
    "- circuit: 실행할 quantum circuit. **transpile**을 진행하여 ISA circuit 형태여야한다.\n",
    "- observables: quantum circuit에 대해 관측하고자하는 observables. **transpile**을 진행하여 ISA observables 형태여야한다.\n",
    "- parameter_values: 특정 parameter에 의해 operator의 값이 변화하는 등의 parameterized circuit에서 사용할 parameter의 값. ND-array 형태로 전달한다.\n",
    "- precision: 해당 quantum circuit에서 observable의 expectation value, std를 얻을 때의 정확도.\n",
    "\n",
    "```python\n",
    "pub = (circuit [required],\n",
    "        observables [required],\n",
    "        parameter_values [optional],\n",
    "        precision [optional],)\n",
    "```"
   ]
  },
  {
   "cell_type": "markdown",
   "metadata": {},
   "source": [
    "### Example"
   ]
  },
  {
   "cell_type": "code",
   "execution_count": null,
   "metadata": {},
   "outputs": [],
   "source": [
    "from qiskit_ibm_runtime import EstimatorV2 as Estimator\n",
    "from qiskit import QuantumCircuit, transpile\n",
    "\n",
    "# Create a Bell circuit\n",
    "bell = QuantumCircuit(2) \n",
    "bell.h(0)\n",
    "bell.cx(0, 1)\n",
    "bell.draw(\"mpl\")\n",
    "\n",
    "# Transpile to an ISA Circuit for the intended backend \n",
    "isa_bell = transpile(bell, backend)"
   ]
  },
  {
   "cell_type": "code",
   "execution_count": null,
   "metadata": {},
   "outputs": [],
   "source": [
    "import qiskit.quantum_info as qi\n",
    "\n",
    "# Create an observable\n",
    "obs = qi.SparsePauliOp([\"ZZ\"]) \n",
    "\n",
    "# Transpile to ISA observable for intended ISA circuit \n",
    "isa_obs = obs.apply_layout(isa_bell.layout)"
   ]
  },
  {
   "cell_type": "code",
   "execution_count": null,
   "metadata": {},
   "outputs": [],
   "source": [
    "# Construct Estimator\n",
    "estimator = Estimator(backend)\n",
    "\n",
    "# Construct pub and run\n",
    "pub = (isa_bell, isa_obs)\n",
    "est_job_bell = estimator.run([pub])\n",
    "est_result_bell = est_job_bell.result()"
   ]
  },
  {
   "cell_type": "code",
   "execution_count": null,
   "metadata": {},
   "outputs": [],
   "source": [
    "data = est_result_bell[0].data\n",
    "evs = data.evs\n",
    "stds = data.stds\n",
    "\n",
    "print(f\"<ZZ> = {evs:.3f} ± {stds:.3f}\")"
   ]
  },
  {
   "cell_type": "markdown",
   "metadata": {},
   "source": [
    "### Parameteric Example: Broadcasting\n",
    "\n",
    "Estimator 또한 parameterized circuit의 실행을 지원한다. 그러나, 1개의 measurement option만을 가지는 Sampler와 다르게 Estimator는 **여러개의 observable**을 사용할 수 있기 때문에, Broadcasting이 필요하다.\n",
    "\n",
    "Broadcasting은 다음 형태로 진행된다.  \n",
    "\n",
    "![fig|center|300](https://i.imgur.com/V7KbPxJ.png)"
   ]
  },
  {
   "cell_type": "code",
   "execution_count": null,
   "metadata": {},
   "outputs": [],
   "source": [
    "# Parameterized vell circuit\n",
    "theta = Parameter(\"θ\")\n",
    "\n",
    "par_bell = QuantumCircuit(2)\n",
    "par_bell.ry(theta, 0)\n",
    "par_bell.cx(0, 1)\n",
    "par_bell.draw(\"mpl\")\n",
    "\n",
    "# Transpile to an ISA Circuit for the intended backend \n",
    "isa_par_bell = transpile(par_bell, backend)\n",
    "\n",
    "# Parameter values to evaluate with 20 theta values \n",
    "param_vals = np.linspace(0, np.pi, 20)\n",
    "\n",
    "# Create an observable array with 3 observables\n",
    "par_bell_obs = [ \n",
    "    qi.SparsePauliOp([\"XX\"]),\n",
    "    qi.SparsePauliOp([\"YY\"]),\n",
    "    qi.SparsePauliOp([\"ZZ\"]),\n",
    "]\n",
    "\n",
    "# Transpile to ISA observable and reshape to (3, 1) array\n",
    "isa_par_bell_obs = [ \n",
    "    [op.apply_layout(isa_par_bell.layout)]\n",
    "    for op in par_bell_obs\n",
    "]\n",
    "\n",
    "# Construct pub and run\n",
    "# Pub and result shape is (20,)\n",
    "pub = (isa_par_bell, isa_par_bell_obs, param_vals)"
   ]
  },
  {
   "cell_type": "code",
   "execution_count": null,
   "metadata": {},
   "outputs": [],
   "source": [
    "# Run estimator\n",
    "est_job_par_bell = estimator.run([pub])"
   ]
  },
  {
   "cell_type": "code",
   "execution_count": null,
   "metadata": {},
   "outputs": [],
   "source": [
    "est_result_par_bell = est_job_par_bell.result()\n",
    "evs = est_result_par_bell[0].data.evs \n",
    "stds = est_result_par_bell[0].data.stds\n",
    "\n",
    "print(evs)\n",
    "print(stds)"
   ]
  },
  {
   "cell_type": "markdown",
   "metadata": {},
   "source": [
    "### Observables"
   ]
  },
  {
   "cell_type": "code",
   "execution_count": null,
   "metadata": {},
   "outputs": [],
   "source": [
    "abstract_example = QuantumCircuit(1) \n",
    "abstract_example.h(0)\n",
    "\n",
    "isa_example = transpile(\n",
    "    abstract_example, backend, initial_layout=[4]\n",
    ")\n",
    "display(isa_example.draw('mpl', idle_wires=False))"
   ]
  },
  {
   "cell_type": "code",
   "execution_count": null,
   "metadata": {},
   "outputs": [],
   "source": [
    "abstract_obs = qi.SparsePauliOp([\"X\", \"Y\", \"Z\"]) \n",
    "abstract_obs.apply_layout(isa_example.layout)"
   ]
  },
  {
   "cell_type": "markdown",
   "metadata": {},
   "source": [
    "#### Containters\n",
    "\n",
    "Observable이나 parameter등을 더 쉽게 다루기 위한 자료형이 존재한다."
   ]
  },
  {
   "cell_type": "code",
   "execution_count": null,
   "metadata": {},
   "outputs": [],
   "source": [
    "from qiskit.primitives.containers.observables_array import (\n",
    "    ObservablesArray\n",
    ")\n",
    "\n",
    "# Shape (3, 1) list of Pauli array\n",
    "obs = ObservablesArray([\"XX\", \"YY\", \"ZZ\"]).reshape(3,1)\n",
    "\n",
    "# Apply ISA circuit layout\n",
    "isa_obs = obs.apply_layout(isa_par_bell.layout)"
   ]
  },
  {
   "cell_type": "code",
   "execution_count": null,
   "metadata": {},
   "outputs": [],
   "source": [
    "from qiskit.primitives.containers.bindings_array import (\n",
    "    BindingsArray\n",
    ")\n",
    "\n",
    "BindingsArray({tuple(isa_par_bell.parameters): param_vals})"
   ]
  },
  {
   "cell_type": "markdown",
   "metadata": {},
   "source": [
    "#### PauliList Grouping \n",
    "Grouping하여 수행하면, 동일한 qubit에 적용되지 않는 operator 등을 한번에 묶어서 처리함으로서 observable을 measuerment하는 것을 최적화한다. "
   ]
  },
  {
   "cell_type": "code",
   "execution_count": null,
   "metadata": {},
   "outputs": [],
   "source": [
    "paulis = qi.PauliList([\n",
    "    \"ZII\", \"ZII\", \"IIZ\",\n",
    "    \"XII\", \"IXI\", \"IIX\", \n",
    "    \"YII\", \"IYI\", \"IIY\"]\n",
    ")\n",
    "\n",
    "paulis.group_commuting(qubit_wise=True)"
   ]
  },
  {
   "cell_type": "markdown",
   "metadata": {},
   "source": [
    "#### Custom Observables and decomposing\n",
    "\n",
    "Pauli operator들의 linear combination으로 만들어지는 새로운 Hamiltonian을 사용하여 observable을 정의할 수 있다.\n",
    "$$H = \\sum_i \\alpha_i P_i$$\n",
    "\n",
    "이때 *{CUSTOM_OBS}.paulis를 이용하면 그 operator를 구성하는 pauli operator들을 얻을 수 있다.  \n",
    "따라서 아레 예시 코드의 obs는 총 4개의 observable을 가진다."
   ]
  },
  {
   "cell_type": "code",
   "execution_count": null,
   "metadata": {},
   "outputs": [],
   "source": [
    "# Want to estimate expval of\n",
    "H = qi.SparsePauliOp([\"ZII\", \"IZI\", \"IIZ\"], 1/3)\n",
    "\n",
    "# To get access to component terms as well we should set \n",
    "obs = ObservablesArray([H, *H.paulis])\n",
    "obs"
   ]
  },
  {
   "cell_type": "markdown",
   "metadata": {},
   "source": [
    "### Twirling\n",
    "*Pauli twirling converts a general noise channel into a Pauli error channel.*"
   ]
  },
  {
   "cell_type": "code",
   "execution_count": null,
   "metadata": {},
   "outputs": [],
   "source": [
    "# Method1: Set options after initializing\n",
    "twirl_sampler = Sampler(backend)\n",
    "twirl_sampler.options.twirling.enable_gates = True\n",
    "twirl_sampler.options.twirling.enable_measure = True\n",
    "twirl_sampler.options.twirling.strategy = \"active-circuit\"\n",
    "\n",
    "# Method2: Pass-options during initialization\n",
    "options = {\n",
    "    \"twirling\": {\n",
    "        \"enable_gates\": True,\n",
    "        \"enable_measure\": True,\n",
    "        \"strategy\": \"active-circuit\",\n",
    "    },\n",
    "}\n",
    "twirl_sampler = Sampler(backend, options = options)"
   ]
  },
  {
   "cell_type": "markdown",
   "metadata": {},
   "source": [
    "### Resilience Levels\n",
    "*The runtime Estimator has built in resilience levels to automate option configuration*\n",
    "\n",
    "-> resilience_level 값이 높을 수록 더 정확한 결과를 얻을 수 있지만, 시간이 오래걸린다."
   ]
  },
  {
   "cell_type": "code",
   "execution_count": null,
   "metadata": {},
   "outputs": [],
   "source": [
    "# Initialize estimator for ZNE\n",
    "estimator = Estimator(\n",
    "backend, options={\"resilience_level\": 2})\n",
    "\n",
    "# Initialize and *Customize* an estimator for ZNE \n",
    "estimator = Estimator(backend) \n",
    "estimator.options.resilience_level = 2\n",
    "estimator.options.dynamical_decoupling.enable = True\n",
    "estimator.options.dynamical_decoupling.sequence_type = \"XY4\"\n",
    "estimator.options.resilience.zne.extrapolator = \"linear\""
   ]
  }
 ],
 "metadata": {
  "kernelspec": {
   "display_name": "QGSS2024",
   "language": "python",
   "name": "python3"
  },
  "language_info": {
   "codemirror_mode": {
    "name": "ipython",
    "version": 3
   },
   "file_extension": ".py",
   "mimetype": "text/x-python",
   "name": "python",
   "nbconvert_exporter": "python",
   "pygments_lexer": "ipython3",
   "version": "3.12.4"
  }
 },
 "nbformat": 4,
 "nbformat_minor": 2
}
