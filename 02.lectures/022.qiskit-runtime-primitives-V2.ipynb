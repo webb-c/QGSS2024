{
 "cells": [
  {
   "cell_type": "markdown",
   "metadata": {},
   "source": [
    "# Lecture 1.2: Qiskit runtime primitive V2\n",
    "from IBM Quantum Computing QGSS2024"
   ]
  },
  {
   "cell_type": "markdown",
   "metadata": {},
   "source": [
    "### Qiskit Runtime\n",
    "\n",
    "Qiskit Runtime service는 local에서 Qiskit Runtime API를 이용하여 프로그래밍한 코드에서 Primitive를 사용하면, 서버에서 실제로 그 프로그램을 수행시켜 Quantum Hardware를 사용할 수 있게 하는 service이다. \n",
    "\n",
    "제공하는 Primitive는 크게 2가지 종류가 있는데, **Sampler primitive**와 **Estimator primitive**이다."
   ]
  },
  {
   "cell_type": "markdown",
   "metadata": {},
   "source": [
    "## Sampler primitive\n",
    "\n",
    "Sampler primitive는 가장 기본적인 measurement방법인 **Pauli-Z** gate를 사용한 측정을 수행한다. 한번의 측정에 대한 결과(outcome)을 return하며, 여러번의 measurement를 수행할 수도 있다.  \n",
    "\n",
    "Quantum Circuit에서 반드시 measurement를 직접 추가헤주어야한다.  \n",
    "\n",
    "\n",
    "대표적인 특징을 정리하면 다음과같다.\n",
    "- low-level execution\n",
    "- measurement의 outcome을 반환한다.\n",
    "- circuit자체에 measurement가 추가되어있어야한다."
   ]
  },
  {
   "cell_type": "markdown",
   "metadata": {},
   "source": [
    "### Sampler API\n",
    "\n",
    "Sampler 클래스의 인스턴스를 생성하고, `.run()`메소드를 호출하여 Sampler primitive를 이용할 수 있다.\n",
    "- pubs: `pub`들의 리스트. pub은 Primitive Unified Blocs를 의미하며, Sampler가 수행할 하나의 작업단위를 의미한다.\n",
    "- shots: `pub`에 대해 몇 번의 measurement를 수행할 것인지를 의미하는 값. (pub 내부에 shot이 정의되지 않은 경우에만 적용된다; overide 불가)\n",
    "\n",
    "```python\n",
    "Sampler.run(\n",
    "    pubs: list[SamplerPubLike],\n",
    "    shots: int | None = None,\n",
    ") -> Job[SamplerResult]\n",
    "```\n",
    "\n",
    "`pub`은 보통 다음과 같은 **튜플** 형태로 정의된다.\n",
    "- circuit: 실행할 quantum circuit. **transpile**을 진행하여 ISA circuit 형태여야한다.\n",
    "- parameter_values: 특정 parameter에 의해 operator의 값이 변화하는 등의 parameterized circuit에서 사용할 parameter의 값. ND-array 형태로 전달한다.\n",
    "- shots: 해당 quantum circuit에서 몇 번의 measurement를 수행할 것인지를 의미하는 값.\n",
    "\n",
    "```python\n",
    "pub = (circuit [required],\n",
    "        parameter_values [optional])  # new option (V2)\n",
    "        shots [optional])\n",
    "```"
   ]
  },
  {
   "cell_type": "markdown",
   "metadata": {},
   "source": [
    "### Example \n",
    "*Run a simple Bell-state measurement circuit*"
   ]
  },
  {
   "cell_type": "code",
   "execution_count": 2,
   "metadata": {},
   "outputs": [],
   "source": [
    "from qiskit_ibm_runtime import QiskitRuntimeService\n",
    "\n",
    "# Load saved runtime account\n",
    "service = QiskitRuntimeService()\n",
    "\n",
    "# Select a backend\n",
    "backend = service.least_busy(operational=True, simulator=False, min_num_qubits=127)"
   ]
  },
  {
   "cell_type": "code",
   "execution_count": 3,
   "metadata": {},
   "outputs": [
    {
     "data": {
      "image/png": "[encoded data removed]",
      "text/plain": [
       "<Figure size 580.387x284.278 with 1 Axes>"
      ]
     },
     "metadata": {},
     "output_type": "display_data"
    }
   ],
   "source": [
    "from qiskit import QuantumCircuit, transpile\n",
    "\n",
    "# create a Bell circuit\n",
    "bell_meas = QuantumCircuit(2)\n",
    "bell_meas.h(0)\n",
    "bell_meas.cx(0, 1)\n",
    "bell_meas.measure_all()\n",
    "display(bell_meas.draw(\"mpl\"))\n",
    "\n",
    "# Transpile to an ISA Circuit for the intended backend\n",
    "isa_bell_meas = transpile(bell_meas, backend)\n",
    "\n",
    "# Construct pub and run\n",
    "pub_bell_meas = (isa_bell_meas, )"
   ]
  },
  {
   "cell_type": "code",
   "execution_count": 5,
   "metadata": {},
   "outputs": [],
   "source": [
    "from qiskit_ibm_runtime import SamplerV2 as Sampler\n",
    "\n",
    "# Initialize a sampler for the backend and run\n",
    "sampler = Sampler(backend)\n",
    "job_bell_meas = sampler.run([pub_bell_meas], shots=10)\n",
    "\n",
    "print(job_bell_meas.job_id())"
   ]
  },
  {
   "cell_type": "code",
   "execution_count": 6,
   "metadata": {},
   "outputs": [
    {
     "name": "stderr",
     "output_type": "stream",
     "text": [
      "/opt/miniconda3/envs/QGSS2024/lib/python3.12/site-packages/qiskit/qpy/interface.py:305: UserWarning: The qiskit version used to generate the provided QPY file, 1.1.1, is newer than the current qiskit version 1.1.0. This may result in an error if the QPY file uses instructions not present in this current qiskit version\n",
      "  warnings.warn(\n"
     ]
    },
    {
     "data": {
      "text/plain": [
       "DataBin(meas=BitArray(<shape=(), num_shots=10, num_bits=2>))"
      ]
     },
     "execution_count": 6,
     "metadata": {},
     "output_type": "execute_result"
    }
   ],
   "source": [
    "from qiskit.providers.job import JobV1\n",
    "\n",
    "# Extract results\n",
    "job_bell_meas = service.job(\"cth2x8n5q9w0008g81wg\")\n",
    "\n",
    "result_bell_meas = job_bell_meas.result()\n",
    "data_bell_meas = result_bell_meas[0].data\n",
    "data_bell_meas"
   ]
  },
  {
   "cell_type": "code",
   "execution_count": 7,
   "metadata": {},
   "outputs": [
    {
     "name": "stdout",
     "output_type": "stream",
     "text": [
      "shape: ()\n",
      "num_bits: 2\n",
      "num_shots: 10\n",
      "array:\n",
      " [[3]\n",
      " [3]\n",
      " [0]\n",
      " [0]\n",
      " [0]\n",
      " [0]\n",
      " [0]\n",
      " [3]\n",
      " [3]\n",
      " [1]]\n"
     ]
    }
   ],
   "source": [
    "bits = data_bell_meas.meas\n",
    "print(\"shape:\", bits.shape)\n",
    "print(\"num_bits:\", bits.num_bits)\n",
    "print(\"num_shots:\", bits.num_shots)\n",
    "print(\"array:\\n\", bits.array)"
   ]
  },
  {
   "cell_type": "code",
   "execution_count": 8,
   "metadata": {},
   "outputs": [
    {
     "name": "stdout",
     "output_type": "stream",
     "text": [
      "['11', '11', '00', '00', '00', '00', '00', '11', '11', '01']\n"
     ]
    }
   ],
   "source": [
    "bitstrings = bits.get_bitstrings()\n",
    "print(bitstrings)"
   ]
  },
  {
   "cell_type": "code",
   "execution_count": 9,
   "metadata": {},
   "outputs": [
    {
     "name": "stdout",
     "output_type": "stream",
     "text": [
      "{'11': 4, '00': 5, '01': 1}\n"
     ]
    }
   ],
   "source": [
    "counts = bits.get_counts()\n",
    "print(counts)"
   ]
  },
  {
   "cell_type": "markdown",
   "metadata": {},
   "source": [
    "### Parametric Example \n",
    "*Control 2-qubit entanglement via parameter*"
   ]
  },
  {
   "cell_type": "code",
   "execution_count": 10,
   "metadata": {},
   "outputs": [
    {
     "data": {
      "image/png": "[encoded data removed]",
      "text/plain": [
       "<Figure size 580.387x284.278 with 1 Axes>"
      ]
     },
     "metadata": {},
     "output_type": "display_data"
    }
   ],
   "source": [
    "import numpy as np\n",
    "from qiskit.circuit import Parameter\n",
    "\n",
    "# parameterized circuit\n",
    "theta = Parameter(\"θ\")\n",
    "\n",
    "par_bell_meas = QuantumCircuit(2)\n",
    "par_bell_meas.ry(theta, 0)\n",
    "par_bell_meas.cx(0, 1)\n",
    "par_bell_meas.measure_all()\n",
    "display(par_bell_meas.draw(\"mpl\"))\n",
    "\n",
    "# Parameter values to evaluate with 20 theta values\n",
    "param_vals = np.linspace(0, np.pi, 20)\n",
    "\n",
    "# Transpile to an ISA Circuit for the intended backend\n",
    "isa_par_bell_meas = transpile(par_bell_meas, backend)\n",
    "\n",
    "\n",
    "# Construct pub and run\n",
    "# Pub and result shape is (20,)\n",
    "pub_par_bell_meas = (isa_par_bell_meas, param_vals)\n",
    "job_par_bell_meas = sampler.run([pub_par_bell_meas], shots=1000)"
   ]
  },
  {
   "cell_type": "code",
   "execution_count": 11,
   "metadata": {},
   "outputs": [
    {
     "name": "stderr",
     "output_type": "stream",
     "text": [
      "/opt/miniconda3/envs/QGSS2024/lib/python3.12/site-packages/qiskit/qpy/interface.py:305: UserWarning: The qiskit version used to generate the provided QPY file, 1.1.1, is newer than the current qiskit version 1.1.0. This may result in an error if the QPY file uses instructions not present in this current qiskit version\n",
      "  warnings.warn(\n"
     ]
    },
    {
     "data": {
      "text/plain": [
       "BitArray(<shape=(20,), num_shots=1000, num_bits=2>)"
      ]
     },
     "execution_count": 11,
     "metadata": {},
     "output_type": "execute_result"
    }
   ],
   "source": [
    "\n",
    "job_par_bell_meas = service.job(\"cthe4zv907y0008vhk00\")\n",
    "result_par_bell_meas = job_par_bell_meas.result()\n",
    "\n",
    "# Extract result data\n",
    "bits = result_par_bell_meas[0].data.meas\n",
    "bits"
   ]
  },
  {
   "cell_type": "code",
   "execution_count": 12,
   "metadata": {},
   "outputs": [
    {
     "data": {
      "image/png": "[encoded data removed]",
      "text/plain": [
       "<Figure size 640x480 with 1 Axes>"
      ]
     },
     "metadata": {},
     "output_type": "display_data"
    }
   ],
   "source": [
    "import matplotlib.pyplot as plt\n",
    "import seaborn # type: ignore\n",
    "\n",
    "# Compute the probability of \"00\" outcome and \"11\" outcome\n",
    "p0s = np.sum(bits.array == 0, axis=1) / bits.num_shots\n",
    "p1s = np.sum(bits.array == 3, axis=1) / bits.num_shots\n",
    "\n",
    "plt.plot(param_vals, p0s, label=\"P('00')\")\n",
    "plt.plot(param_vals, p1s, label=\"P('11')\")\n",
    "plt.xlabel(\"0\")\n",
    "plt.legend()\n",
    "plt.show()"
   ]
  },
  {
   "cell_type": "markdown",
   "metadata": {},
   "source": [
    "### *About Shots*\n",
    "\n",
    "shot이라는 option은 pub에서도, Sampler에서도 지정할 수 있다.  \n",
    "- Sampler의 shot은 pub내부에서 shot이 지정되지 않았을 때 적용된다.\n",
    "- 두 option 모두 정의되지 않았을 때는, Qiskit에서 정해둔 default value를 이용한다."
   ]
  },
  {
   "cell_type": "code",
   "execution_count": null,
   "metadata": {},
   "outputs": [],
   "source": [
    "# 1. All shots in pub\n",
    "pub1a = (isa_bell_meas, None, 100) \n",
    "pub1b = (isa_bell_meas, None, 100) \n",
    "\n",
    "result1 = sampler.run([pub1a, pub1b], shots=1000).result()\n",
    "\n",
    "for i, res in enumerate(result1):\n",
    "    print(f\"Pub {i}: num_shots = {res.data.meas.num_shots}\")"
   ]
  },
  {
   "cell_type": "code",
   "execution_count": null,
   "metadata": {},
   "outputs": [],
   "source": [
    "# 2. Fall back to 'run' shots\n",
    "pub2a = (isa_bell_meas,)\n",
    "pub2b = (isa_bell_meas, None, 200)\n",
    "\n",
    "result2 = sampler.run([pub2a, pub2b], shots=1000).result()\n",
    "\n",
    "for i, res in enumerate(result2):\n",
    "    print(f\"Pub {i}: num_shots = {res.data.meas.num_shots}\")"
   ]
  },
  {
   "cell_type": "code",
   "execution_count": null,
   "metadata": {},
   "outputs": [],
   "source": [
    "# 3. Fall back to default shots\n",
    "pub3a = (isa_bell_meas,)\n",
    "pub3b = (isa_bell_meas, None, 200)\n",
    "\n",
    "result3 = sampler.run([pub3a, pub3b]).result()\n",
    "\n",
    "for i, res in enumerate(result3):\n",
    "    print(f\"Pub {i}: num_shots = {res.data.meas.num_shots}\")"
   ]
  },
  {
   "cell_type": "markdown",
   "metadata": {},
   "source": [
    "## Estimator primitive\n",
    "\n",
    "Estimator primitive 방법은 기본적인 measurement가 아닌 다른 방식의 measurement를 수행할 수 있으며, measurement에 사용할 operation을 **observable**로서 지정해줄 수 있다. \n",
    "\n",
    "observable을 수행할 qubit의 인덱스에는 해당 operator를, observable을 수행하지 않을 qubit의 인덱스에는 아무런 연산도 하지않는 operator인 **Identity matrix**를 기입하여 Observable을 지정할 수 있다.\n",
    "\n",
    "실행결과로 observable의 expectation value, std를 반환하기 때문에 더 higher level의 execution이다.\n",
    "\n",
    "\n",
    "대표적인 특징을 정리하면 다음과같다.\n",
    "- high-level execution\n",
    "- observable의 expectation value, std를 반환한다.\n",
    "- circuit자체에 measurement가 없어야한다."
   ]
  },
  {
   "cell_type": "markdown",
   "metadata": {},
   "source": [
    "### Estimator API\n",
    "\n",
    "Estimator 클래스의 인스턴스를 생성하고, `.run()`메소드를 호출하여 Estimator primitive를 이용할 수 있다.\n",
    "- pubs: `pub`들의 리스트. pub은 Primitive Unified Blocs를 의미하며, Sampler가 수행할 하나의 작업단위를 의미한다.\n",
    "- precision: `pub`에 대해 작업을 수행하여 observable의 expectation value, std를 얻을 때의 정확도. (pub 내부에 precision이 정의되지 않은 경우에만 적용된다; overide 불가)\n",
    "\n",
    "```python\n",
    "Estimator.run(\n",
    "    pubs: list[EstimatorPub],\n",
    "    precision: float | None = None,\n",
    ") -> Job[EstimatorResult]\n",
    "```\n",
    "\n",
    "`pub`은 보통 다음과 같은 **튜플** 형태로 정의된다.\n",
    "- circuit: 실행할 quantum circuit. **transpile**을 진행하여 ISA circuit 형태여야한다.\n",
    "- observables: quantum circuit에 대해 관측하고자하는 observables. **transpile**을 진행하여 ISA observables 형태여야한다.\n",
    "- parameter_values: 특정 parameter에 의해 operator의 값이 변화하는 등의 parameterized circuit에서 사용할 parameter의 값. ND-array 형태로 전달한다.\n",
    "- precision: 해당 quantum circuit에서 observable의 expectation value, std를 얻을 때의 정확도.\n",
    "\n",
    "```python\n",
    "pub = (circuit [required],\n",
    "        observables [required],\n",
    "        parameter_values [optional],\n",
    "        precision [optional],)\n",
    "```"
   ]
  },
  {
   "cell_type": "markdown",
   "metadata": {},
   "source": [
    "### Example"
   ]
  },
  {
   "cell_type": "code",
   "execution_count": 13,
   "metadata": {},
   "outputs": [],
   "source": [
    "from qiskit_ibm_runtime import EstimatorV2 as Estimator\n",
    "from qiskit import QuantumCircuit, transpile\n",
    "\n",
    "# Create a Bell circuit\n",
    "bell = QuantumCircuit(2) \n",
    "bell.h(0)\n",
    "bell.cx(0, 1)\n",
    "bell.draw(\"mpl\")\n",
    "\n",
    "# Transpile to an ISA Circuit for the intended backend \n",
    "isa_bell = transpile(bell, backend)"
   ]
  },
  {
   "cell_type": "code",
   "execution_count": 14,
   "metadata": {},
   "outputs": [],
   "source": [
    "import qiskit.quantum_info as qi\n",
    "\n",
    "# Create an observable\n",
    "obs = qi.SparsePauliOp([\"ZZ\"]) \n",
    "\n",
    "# Transpile to ISA observable for intended ISA circuit \n",
    "isa_obs = obs.apply_layout(isa_bell.layout)"
   ]
  },
  {
   "cell_type": "code",
   "execution_count": 26,
   "metadata": {},
   "outputs": [
    {
     "name": "stdout",
     "output_type": "stream",
     "text": [
      "cthjh14x7b5g008zseag\n"
     ]
    }
   ],
   "source": [
    "# Construct Estimator\n",
    "estimator = Estimator(backend)\n",
    "\n",
    "# Construct pub and run\n",
    "pub = (isa_bell, isa_obs)\n",
    "est_job_bell = estimator.run([pub])\n",
    "\n",
    "print(est_job_bell.job_id())"
   ]
  },
  {
   "cell_type": "code",
   "execution_count": 15,
   "metadata": {},
   "outputs": [
    {
     "name": "stderr",
     "output_type": "stream",
     "text": [
      "/opt/miniconda3/envs/QGSS2024/lib/python3.12/site-packages/qiskit/qpy/interface.py:305: UserWarning: The qiskit version used to generate the provided QPY file, 1.1.1, is newer than the current qiskit version 1.1.0. This may result in an error if the QPY file uses instructions not present in this current qiskit version\n",
      "  warnings.warn(\n"
     ]
    },
    {
     "name": "stdout",
     "output_type": "stream",
     "text": [
      "<ZZ> = 1.520 ± 0.071\n"
     ]
    }
   ],
   "source": [
    "est_job_bell = service.job(\"cthjh14x7b5g008zseag\")\n",
    "est_result_bell = est_job_bell.result()\n",
    "\n",
    "data = est_result_bell[0].data\n",
    "evs = data.evs\n",
    "stds = data.stds\n",
    "\n",
    "print(f\"<ZZ> = {evs:.3f} ± {stds:.3f}\")"
   ]
  },
  {
   "cell_type": "markdown",
   "metadata": {},
   "source": [
    "### Parameteric Example: Broadcasting\n",
    "\n",
    "Estimator 또한 parameterized circuit의 실행을 지원한다. 그러나, 1개의 measurement option만을 가지는 Sampler와 다르게 Estimator는 **여러개의 observable**을 사용할 수 있기 때문에, Broadcasting이 필요하다.\n",
    "\n",
    "Broadcasting은 다음 형태로 진행된다.  \n",
    "\n",
    "![fig|center|300](https://i.imgur.com/V7KbPxJ.png)"
   ]
  },
  {
   "cell_type": "code",
   "execution_count": 16,
   "metadata": {},
   "outputs": [],
   "source": [
    "# Parameterized vell circuit\n",
    "theta = Parameter(\"θ\")\n",
    "\n",
    "par_bell = QuantumCircuit(2)\n",
    "par_bell.ry(theta, 0)\n",
    "par_bell.cx(0, 1)\n",
    "par_bell.draw(\"mpl\")\n",
    "\n",
    "# Transpile to an ISA Circuit for the intended backend \n",
    "isa_par_bell = transpile(par_bell, backend)\n",
    "\n",
    "# Parameter values to evaluate with 20 theta values \n",
    "param_vals = np.linspace(0, np.pi, 20)\n",
    "\n",
    "# Create an observable array with 3 observables\n",
    "par_bell_obs = [ \n",
    "    qi.SparsePauliOp([\"XX\"]),\n",
    "    qi.SparsePauliOp([\"YY\"]),\n",
    "    qi.SparsePauliOp([\"ZZ\"]),\n",
    "]\n",
    "\n",
    "# Transpile to ISA observable and reshape to (3, 1) array\n",
    "isa_par_bell_obs = [ \n",
    "    [op.apply_layout(isa_par_bell.layout)]\n",
    "    for op in par_bell_obs\n",
    "]\n",
    "\n",
    "# Construct pub and run\n",
    "# Pub and result shape is (20,)\n",
    "pub = (isa_par_bell, isa_par_bell_obs, param_vals)"
   ]
  },
  {
   "cell_type": "code",
   "execution_count": 18,
   "metadata": {},
   "outputs": [
    {
     "name": "stdout",
     "output_type": "stream",
     "text": [
      "cthkmp24gjh0008nrf90\n"
     ]
    }
   ],
   "source": [
    "# Run estimator\n",
    "estimator = Estimator(backend)\n",
    "\n",
    "est_job_par_bell = estimator.run([pub])\n",
    "print(est_job_par_bell.job_id())"
   ]
  },
  {
   "cell_type": "code",
   "execution_count": 20,
   "metadata": {},
   "outputs": [
    {
     "name": "stdout",
     "output_type": "stream",
     "text": [
      "[[ 0.01336898  0.17005348  0.33850267  0.48342246  0.60374332  0.75187166\n",
      "   0.84759358  0.92887701  0.96417112  0.99786096  1.00213904  0.97807487\n",
      "   0.92032086  0.82834225  0.7315508   0.63368984  0.49251337  0.32299465\n",
      "   0.17860963 -0.02727273]\n",
      " [-0.02192513 -0.1513369  -0.31657754 -0.47754011 -0.63636364 -0.75294118\n",
      "  -0.82727273 -0.92941176 -0.95935829 -1.00695187 -0.99786096 -0.95882353\n",
      "  -0.9197861  -0.85454545 -0.71764706 -0.62406417 -0.4802139  -0.34224599\n",
      "  -0.16363636  0.00641711]\n",
      " [ 1.00641711  1.0026738   1.00909091  1.01336898  1.00160428  1.00320856\n",
      "   1.01657754  1.00748663  1.0026738   1.01871658  1.00855615  1.01069519\n",
      "   1.02352941  1.0171123   1.01122995  1.00695187  1.00748663  0.99786096\n",
      "   1.00748663  0.99625668]]\n",
      "[[0.02218787 0.0191151  0.01559526 0.01808389 0.01301778 0.01609954\n",
      "  0.01441482 0.01297033 0.01398356 0.0123337  0.01272079 0.01154361\n",
      "  0.01287753 0.01465839 0.01288137 0.0144851  0.01493569 0.01550826\n",
      "  0.01825041 0.01709535]\n",
      " [0.01684817 0.01244988 0.01775311 0.01617039 0.01384991 0.01526692\n",
      "  0.01472551 0.01343328 0.01168284 0.01121082 0.0123337  0.0124959\n",
      "  0.01231213 0.0128403  0.01330738 0.01472862 0.01329824 0.01363256\n",
      "  0.01842394 0.01654745]\n",
      " [0.01322693 0.01272313 0.01226125 0.01138377 0.01225978 0.01274723\n",
      "  0.01192923 0.01289144 0.01219523 0.01204532 0.01186463 0.01276415\n",
      "  0.01173572 0.01129544 0.01150589 0.0121415  0.01271274 0.01178837\n",
      "  0.01237072 0.01262591]]\n"
     ]
    }
   ],
   "source": [
    "est_job_par_bell = service.job(\"cthkmp24gjh0008nrf90\")\n",
    "est_result_par_bell = est_job_par_bell.result()\n",
    "evs = est_result_par_bell[0].data.evs \n",
    "stds = est_result_par_bell[0].data.stds\n",
    "\n",
    "print(evs)\n",
    "print(stds)"
   ]
  },
  {
   "cell_type": "markdown",
   "metadata": {},
   "source": [
    "### Observables"
   ]
  },
  {
   "cell_type": "code",
   "execution_count": 21,
   "metadata": {},
   "outputs": [
    {
     "data": {
      "image/png": "[encoded data removed]",
      "text/plain": [
       "<Figure size 423.386x117.056 with 1 Axes>"
      ]
     },
     "metadata": {},
     "output_type": "display_data"
    }
   ],
   "source": [
    "abstract_example = QuantumCircuit(1) \n",
    "abstract_example.h(0)\n",
    "\n",
    "isa_example = transpile(\n",
    "    abstract_example, backend, initial_layout=[4]\n",
    ")\n",
    "display(isa_example.draw('mpl', idle_wires=False))"
   ]
  },
  {
   "cell_type": "code",
   "execution_count": 22,
   "metadata": {},
   "outputs": [
    {
     "data": {
      "text/plain": [
       "SparsePauliOp(['IIIIIIIIIIIIIIIIIIIIIIIIIIIIIIIIIIIIIIIIIIIIIIIIIIIIIIIIIIIIIIIIIIIIIIIIIIIIIIIIIIIIIIIIIIIIIIIIIIIIIIIIIIIIIIIIIIIIIIIIIIXIIII', 'IIIIIIIIIIIIIIIIIIIIIIIIIIIIIIIIIIIIIIIIIIIIIIIIIIIIIIIIIIIIIIIIIIIIIIIIIIIIIIIIIIIIIIIIIIIIIIIIIIIIIIIIIIIIIIIIIIIIIIIIIIYIIII', 'IIIIIIIIIIIIIIIIIIIIIIIIIIIIIIIIIIIIIIIIIIIIIIIIIIIIIIIIIIIIIIIIIIIIIIIIIIIIIIIIIIIIIIIIIIIIIIIIIIIIIIIIIIIIIIIIIIIIIIIIIIZIIII'],\n",
       "              coeffs=[1.+0.j, 1.+0.j, 1.+0.j])"
      ]
     },
     "execution_count": 22,
     "metadata": {},
     "output_type": "execute_result"
    }
   ],
   "source": [
    "abstract_obs = qi.SparsePauliOp([\"X\", \"Y\", \"Z\"]) \n",
    "abstract_obs.apply_layout(isa_example.layout)"
   ]
  },
  {
   "cell_type": "markdown",
   "metadata": {},
   "source": [
    "#### Containters\n",
    "\n",
    "Observable이나 parameter등을 더 쉽게 다루기 위한 자료형이 존재한다."
   ]
  },
  {
   "cell_type": "code",
   "execution_count": 26,
   "metadata": {},
   "outputs": [
    {
     "ename": "AttributeError",
     "evalue": "'ObservablesArray' object has no attribute 'apply_layout'",
     "output_type": "error",
     "traceback": [
      "\u001b[0;31m---------------------------------------------------------------------------\u001b[0m",
      "\u001b[0;31mAttributeError\u001b[0m                            Traceback (most recent call last)",
      "Cell \u001b[0;32mIn[26], line 9\u001b[0m\n\u001b[1;32m      6\u001b[0m obs \u001b[38;5;241m=\u001b[39m ObservablesArray([\u001b[38;5;124m\"\u001b[39m\u001b[38;5;124mXX\u001b[39m\u001b[38;5;124m\"\u001b[39m, \u001b[38;5;124m\"\u001b[39m\u001b[38;5;124mYY\u001b[39m\u001b[38;5;124m\"\u001b[39m, \u001b[38;5;124m\"\u001b[39m\u001b[38;5;124mZZ\u001b[39m\u001b[38;5;124m\"\u001b[39m])\u001b[38;5;241m.\u001b[39mreshape(\u001b[38;5;241m3\u001b[39m,\u001b[38;5;241m1\u001b[39m)\n\u001b[1;32m      8\u001b[0m \u001b[38;5;66;03m# Apply ISA circuit layout\u001b[39;00m\n\u001b[0;32m----> 9\u001b[0m isa_obs \u001b[38;5;241m=\u001b[39m \u001b[43mobs\u001b[49m\u001b[38;5;241;43m.\u001b[39;49m\u001b[43mapply_layout\u001b[49m(isa_par_bell\u001b[38;5;241m.\u001b[39mlayout)\n\u001b[1;32m     11\u001b[0m \u001b[38;5;66;03m#! Theses classes are experimental. in version 1.1.0 not enable.\u001b[39;00m\n",
      "\u001b[0;31mAttributeError\u001b[0m: 'ObservablesArray' object has no attribute 'apply_layout'"
     ]
    }
   ],
   "source": [
    "from qiskit.primitives.containers.observables_array import (\n",
    "    ObservablesArray\n",
    ")\n",
    "\n",
    "# Shape (3, 1) list of Pauli array\n",
    "obs = ObservablesArray([\"XX\", \"YY\", \"ZZ\"]).reshape(3,1)\n",
    "\n",
    "# Apply ISA circuit layout\n",
    "isa_obs = obs.apply_layout(isa_par_bell.layout)\n",
    "\n",
    "#! Theses classes are experimental. in version 1.1.0 not enable."
   ]
  },
  {
   "cell_type": "code",
   "execution_count": 24,
   "metadata": {},
   "outputs": [
    {
     "data": {
      "text/plain": [
       "BindingsArray(<shape=(20,), num_parameters=1, parameters=['θ']>)"
      ]
     },
     "execution_count": 24,
     "metadata": {},
     "output_type": "execute_result"
    }
   ],
   "source": [
    "from qiskit.primitives.containers.bindings_array import (\n",
    "    BindingsArray\n",
    ")\n",
    "\n",
    "BindingsArray({tuple(isa_par_bell.parameters): param_vals})"
   ]
  },
  {
   "cell_type": "markdown",
   "metadata": {},
   "source": [
    "#### PauliList Grouping \n",
    "Grouping하여 수행하면, 동일한 qubit에 적용되지 않는 operator 등을 한번에 묶어서 처리함으로서 observable을 measuerment하는 것을 최적화한다. "
   ]
  },
  {
   "cell_type": "code",
   "execution_count": 25,
   "metadata": {},
   "outputs": [
    {
     "data": {
      "text/plain": [
       "[PauliList(['XII', 'IIZ', 'IXI']),\n",
       " PauliList(['YII', 'IIX', 'IYI']),\n",
       " PauliList(['ZII', 'ZII', 'IIY'])]"
      ]
     },
     "execution_count": 25,
     "metadata": {},
     "output_type": "execute_result"
    }
   ],
   "source": [
    "paulis = qi.PauliList([\n",
    "    \"ZII\", \"ZII\", \"IIZ\",\n",
    "    \"XII\", \"IXI\", \"IIX\", \n",
    "    \"YII\", \"IYI\", \"IIY\"]\n",
    ")\n",
    "\n",
    "paulis.group_commuting(qubit_wise=True)"
   ]
  },
  {
   "cell_type": "markdown",
   "metadata": {},
   "source": [
    "#### Custom Observables and decomposing\n",
    "\n",
    "Pauli operator들의 linear combination으로 만들어지는 새로운 Hamiltonian을 사용하여 observable을 정의할 수 있다.\n",
    "$$H = \\sum_i \\alpha_i P_i$$\n",
    "\n",
    "이때 *{CUSTOM_OBS}.paulis를 이용하면 그 operator를 구성하는 pauli operator들을 얻을 수 있다.  \n",
    "따라서 아레 예시 코드의 obs는 총 4개의 observable을 가진다."
   ]
  },
  {
   "cell_type": "code",
   "execution_count": 27,
   "metadata": {},
   "outputs": [
    {
     "data": {
      "text/plain": [
       "ObservablesArray([{'ZII': np.float64(0.3333333333333333), 'IZI': np.float64(0.3333333333333333), 'IIZ': np.float64(0.3333333333333333)}\n",
       "                  {'ZII': 1} {'IZI': 1} {'IIZ': 1}], shape=(4,))"
      ]
     },
     "execution_count": 27,
     "metadata": {},
     "output_type": "execute_result"
    }
   ],
   "source": [
    "# Want to estimate expval of\n",
    "H = qi.SparsePauliOp([\"ZII\", \"IZI\", \"IIZ\"], 1/3)\n",
    "\n",
    "# To get access to component terms as well we should set \n",
    "obs = ObservablesArray([H, *H.paulis])\n",
    "obs"
   ]
  },
  {
   "cell_type": "markdown",
   "metadata": {},
   "source": [
    "### Twirling\n",
    "*Pauli twirling converts a general noise channel into a Pauli error channel.*"
   ]
  },
  {
   "cell_type": "code",
   "execution_count": 28,
   "metadata": {},
   "outputs": [],
   "source": [
    "# Method1: Set options after initializing\n",
    "twirl_sampler = Sampler(backend)\n",
    "twirl_sampler.options.twirling.enable_gates = True\n",
    "twirl_sampler.options.twirling.enable_measure = True\n",
    "twirl_sampler.options.twirling.strategy = \"active-circuit\"\n",
    "\n",
    "# Method2: Pass-options during initialization\n",
    "options = {\n",
    "    \"twirling\": {\n",
    "        \"enable_gates\": True,\n",
    "        \"enable_measure\": True,\n",
    "        \"strategy\": \"active-circuit\",\n",
    "    },\n",
    "}\n",
    "twirl_sampler = Sampler(backend, options = options)"
   ]
  },
  {
   "cell_type": "markdown",
   "metadata": {},
   "source": [
    "### Resilience Levels\n",
    "*The runtime Estimator has built in resilience levels to automate option configuration*\n",
    "\n",
    "-> resilience_level 값이 높을 수록 더 정확한 결과를 얻을 수 있지만, 시간이 오래걸린다."
   ]
  },
  {
   "cell_type": "code",
   "execution_count": 29,
   "metadata": {},
   "outputs": [],
   "source": [
    "# Initialize estimator for ZNE\n",
    "estimator = Estimator(\n",
    "backend, options={\"resilience_level\": 2})\n",
    "\n",
    "# Initialize and *Customize* an estimator for ZNE \n",
    "estimator = Estimator(backend) \n",
    "estimator.options.resilience_level = 2\n",
    "estimator.options.dynamical_decoupling.enable = True\n",
    "estimator.options.dynamical_decoupling.sequence_type = \"XY4\"\n",
    "estimator.options.resilience.zne.extrapolator = \"linear\""
   ]
  }
 ],
 "metadata": {
  "kernelspec": {
   "display_name": "QGSS2024",
   "language": "python",
   "name": "python3"
  },
  "language_info": {
   "codemirror_mode": {
    "name": "ipython",
    "version": 3
   },
   "file_extension": ".py",
   "mimetype": "text/x-python",
   "name": "python",
   "nbconvert_exporter": "python",
   "pygments_lexer": "ipython3",
   "version": "3.12.4"
  }
 },
 "nbformat": 4,
 "nbformat_minor": 2
}
