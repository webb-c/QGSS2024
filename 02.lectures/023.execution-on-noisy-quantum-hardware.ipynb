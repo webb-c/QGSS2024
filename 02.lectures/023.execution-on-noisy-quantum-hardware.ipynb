{
 "cells": [
  {
   "cell_type": "markdown",
   "metadata": {},
   "source": [
    "# Lecture 4: Execution on noisy quantum hardware\n",
    "from IBM Quantum Computing QGSS2024"
   ]
  },
  {
   "cell_type": "markdown",
   "metadata": {},
   "source": [
    "이번 강의에서는 Qiskit Pattern의 4단계 중에서, 실제로 Qiskit Runtime Primitives를 사용하여 Quantum hardware에서 실행하는 과정에 대해 배우고자한다. 그러나 실제 구현된 Quantum Computer는 이상적인 가정과 다르게 다양한 종류의 noise를 포함하고 있기 때문에 이 noise가 발생하지 않도록 하거나, noise가 발생해도 이를 없앨 수 있는 방법들을 활용해야한다.  \n",
    "\n",
    "크게 다음과 같은 3가지 방식을 사용하여 quantum system에서 발생하는 noise를 해결한다. 이번 강의에서는 그중에서도 **Suppression, Mitigation**에 대해 다룬다.\n",
    "\n",
    "- Suppression\n",
    "    - error를 줄이거나/피하기위한 방법\n",
    "    - 실행하기 전이나 실행중에 적용한다.\n",
    "- Mitigation\n",
    "    - 이미 발생한 error의 영향을 줄이거나/없애기위한 방법\n",
    "    - 실행이 끝난 뒤나 실행중에 적용한다.\n",
    "- Correction\n",
    "    - error가 발생했을 때, 이를 즉시 탐지하고 바로 error를 없애기 위한 방법\n",
    "    - 실행 중에 적용한다."
   ]
  },
  {
   "cell_type": "markdown",
   "metadata": {},
   "source": [
    "원래 기본적으로 Qiskit Runtime Primitive에는 error제거를 위한 방법이 제공되지만, 각 방식을 직접 적용하기 위해 다음과 같이 `optimization_level`, `resilience_level`을 모두 0으로 설정한 primitives를 이용한다."
   ]
  },
  {
   "cell_type": "code",
   "execution_count": 11,
   "metadata": {},
   "outputs": [],
   "source": [
    "from qiskit_ibm_runtime import QiskitRuntimeService, SamplerV2 as Sampler, EstimatorV2 as Estimator\n",
    "\n",
    "service = QiskitRuntimeService()\n",
    "backend = service.least_busy()\n",
    "\n",
    "sampler = Sampler(backend, options=None)\n",
    "estimator = Estimator(backend, options=None)\n",
    "\n",
    "#! options 추가 방법 1\n",
    "# Deactivate circuit optimization & error mitigation\n",
    "estimator.options.optimization_level = 0\n",
    "estimator.options.resilience_level = 0"
   ]
  },
  {
   "cell_type": "markdown",
   "metadata": {},
   "source": [
    "## Error Suppression\n",
    "\n",
    "Error Suppression에는 다음 2가지 종류의 technique이 존재한다.\n",
    "\n",
    "##### Dynamical Decoupling (DD)\n",
    "- 회로의 일부분에서 원하지 coupling(=서로 다른 system의 상호작용)이 발생하는 현상인 **cross talk**에 의한 현상을 제거하기 위한 방법\n",
    "- operator가 적용된 후, IDLE 상태인 qubit와 physically 근처에 있는 qubit에서 operation이 수행되면 cross talk가 발생할 수 있다.\n",
    "- 따라서 IDLE 상태인 qubit에 일부러 gate를 추가하여 IDLE하지 않게 만든다. 이때, 추가한 gate $U$에 대해 그 연산을 취소 할 수 있는 gate $U^{-1}$역시 함께 적용하여 DD 전후 연산 결과에 변함이 없게 만들어준다.\n",
    "- 새로운 gate를 삽입하는 것이기 때문에 **gate error**를 추가적으로 야기시킬 수 있으므로 주의하여 사용해야한다.\n",
    "\n",
    "\n",
    "##### Randomized compiling (twirling)\n",
    "- gate 연산으로 인해 발생하는 **gate-error**를 제거하기 위한 방법\n",
    "- **arbitrary noise channel**을 Pauli basis에 projection 시키기 위해, 기존 gate의 양옆에 추가적인 Pauli operator를 삽입한다. (이 Pauli operator의 종류는 랜덤하게 선택된다.)\n",
    "- Randomized compiling을 수행하면, operation 결과는 변하지 않고 noise만 pauli basis에 projection 시키게 된다. noise channel을 pauli basis에 projection하면 추후 **noise를 제거할 때; Error Mitigation**에서 이를 활용할 수 있다."
   ]
  },
  {
   "cell_type": "markdown",
   "metadata": {},
   "source": [
    "### Dynamical Decoupling via qiskit ibm runtime"
   ]
  },
  {
   "cell_type": "code",
   "execution_count": 12,
   "metadata": {},
   "outputs": [],
   "source": [
    "from qiskit_ibm_runtime import SamplerOptions, EstimatorOptions\n",
    "\n",
    "#! options 추가 방법 2\n",
    "options = SamplerOptions()\n",
    "options = EstimatorOptions(optimization_level=0, resilience_level=0)\n",
    "\n",
    "# Configure Dynamical Decoupling\n",
    "options.dynamical_decoupling.enable = True\n",
    "options.dynamical_decoupling.sequence_type = 'XX'  # 회로에 삽입할 gate. XX말고 다른 gate들도 사용할 수 있다.\n",
    "options.dynamical_decoupling.extra_slack_distribution = 'middle'\n",
    "options.dynamical_decoupling.scheduling_method = 'alap'"
   ]
  },
  {
   "cell_type": "markdown",
   "metadata": {},
   "source": [
    "### Randomized compiling (twirling); Pauli twirling(PT) via qiskit imb runtime"
   ]
  },
  {
   "cell_type": "code",
   "execution_count": 13,
   "metadata": {},
   "outputs": [],
   "source": [
    "from qiskit_ibm_runtime import EstimatorOptions\n",
    "\n",
    "options = EstimatorOptions(optimization_level=0, resilience_level=0)\n",
    "\n",
    "# Configure Twirling\n",
    "options.twirling.enable_gates = True\n",
    "options.twirling.enable_measure = False  # measurement gate에도 twirling을 적용할 수 있다. (ZNE를 위해)\n",
    "options.twirling.num_randomizations = 'auto'\n",
    "options.twirling.shots_per_randomization = 'auto'\n",
    "options.twirling.strategy = 'active-accum'"
   ]
  },
  {
   "cell_type": "markdown",
   "metadata": {},
   "source": [
    "## Error mitigation\n",
    "\n",
    "Error mitigation에는 다음 2가지 종류의 technique이 존재한다.\n",
    "\n",
    "##### Twirled readout error extinction (TREX)\n",
    "- 회로 마지막에서 qubit의 값을 측정할 때, 발생하는 readout error (SPAM error의 일종)를 해결하기 위한 방법\n",
    "- 실제로 준비된 state(row)와 측정된 state(column)간의 확률을 나타내는 **error matrix**를 만들 수 있다. 이 error matrix $E$에 대한 inverse matrix $E^{-1}$를 곱해주면 그 값이 소거되어 readout error를 제거할 수 있다.\n",
    "- 그러나 qubit의 개수가 커질수록 error matrix의 크기또한 exponential 하게 증가하기 때문에 inverse matrix를 쉽게 계산할 방법이 필요하다.\n",
    "- 아이디어: *Error suppression*단계에서 사용하는 **twirling**을 이용하면, noise channel의 matrix를 **Digonal**하게 만들 수 있기 때문에 역행렬을 쉽게 계산할 수 있다.\n",
    "\n",
    "\n",
    "##### Zero noise extrapolation (ZNE) 🔥\n",
    "- gate 연산으로 인해 발생하는 **gate-error**를 제거하기 위한 방법\n",
    "- 주어진 quantum computer가 갖는 noise-level을 1이라고 생각하고, 더 심한 noise를 강제로 만들어내서 noise-level을 증가시켜감에 따라 측정결과가 어떻게 달라지는지를 그래프로 그려 분석한다. (noise amplification phase)\n",
    "- 그 후, noise-level에 따른 측정값에 대한 함수를 추측하여 **zero-noise level**에서 observable의 expectation value를 추정한다. (extrapolation phase)\n",
    "- 더 심한 noise를 만들기 위해 다양한 방법이 연구되고 있다. (on-going research)\n",
    "    - Pulse stretching *(Kandala et al. Nature (2019))*\n",
    "    - Gate folding *(Shultz et al. PRA (2022))*\n",
    "    - Probabilistic error amplification *(Li & Benjamin. PRX (2017))*"
   ]
  },
  {
   "cell_type": "markdown",
   "metadata": {},
   "source": [
    "### Twirled readout error extinction (TREX) via qiskit ibm runtime"
   ]
  },
  {
   "cell_type": "code",
   "execution_count": 14,
   "metadata": {},
   "outputs": [],
   "source": [
    "from qiskit_ibm_runtime import EstimatorOptions\n",
    "\n",
    "options = EstimatorOptions(optimization_level=0, resilience_level=0)\n",
    "\n",
    "# Configure TREX\n",
    "options.resilience.measure_mitigation = True\n",
    "options.resilience.measure_noise_learning.num_randomizations =  32\n",
    "options.resilience.measure_noise_learning.shots_per_randomization = 'auto'\n",
    "\n",
    "# Automatically set by TREX\n",
    "options.twirling.enable_measure = True"
   ]
  },
  {
   "cell_type": "markdown",
   "metadata": {},
   "source": [
    "### Zero noise extrapolation (ZNE) via qiskit ibm runtime"
   ]
  },
  {
   "cell_type": "code",
   "execution_count": 15,
   "metadata": {},
   "outputs": [],
   "source": [
    "from qiskit_ibm_runtime import EstimatorOptions\n",
    "\n",
    "options = EstimatorOptions(optimization_level=0, resilience_level=0)\n",
    "\n",
    "# Configure ZNE\n",
    "options.resilience.zne_mitigation = True\n",
    "options.resilience.zne.noise_factors = (1, 3, 5)                    # noise level\n",
    "options.resilience.zne.extrapolator = ('exponential', 'linear')     # interpolate method"
   ]
  },
  {
   "cell_type": "markdown",
   "metadata": {},
   "source": [
    "### Probabilistic error amplification (PEA) via qiskit ibm runtime\n",
    "*Noise amplification technique for ZNE*"
   ]
  },
  {
   "cell_type": "code",
   "execution_count": 16,
   "metadata": {},
   "outputs": [],
   "source": [
    "from qiskit_ibm_runtime import EstimatorOptions\n",
    "\n",
    "options = EstimatorOptions(optimization_level=0, resilience_level=0)\n",
    "\n",
    "# Configure ZNE with PEA\n",
    "options.resilience.zne_mitigation = True\n",
    "options.resilience.zne.noise_factors = (1, 3, 5)                    # noise level\n",
    "options.resilience.zne.extrapolator = 'exponential'                 # interpolate method\n",
    "\n",
    "# Configure PEA\n",
    "options.experimental = {\n",
    "    'resilience': {\n",
    "        'zne': {\n",
    "            'amplifier': 'pea'\n",
    "        }\n",
    "    }\n",
    "}\n",
    "\n",
    "options.resilience.layer_noise_learning.max_layers_to_learn = 4\n",
    "options.resilience.layer_noise_learning.num_randomizations = 32\n",
    "options.resilience.layer_noise_learning.shots_per_randomization = 128\n",
    "options.resilience.layer_noise_learning.layer_pair_depths = (0, 1, 2, 4, 16, 32)"
   ]
  },
  {
   "cell_type": "markdown",
   "metadata": {},
   "source": [
    "## Combining techniques *via Qiskit IBM Runtime*"
   ]
  },
  {
   "cell_type": "code",
   "execution_count": 17,
   "metadata": {},
   "outputs": [
    {
     "name": "stderr",
     "output_type": "stream",
     "text": [
      "/var/folders/_1/vyxw8wlj1wn0fhb6pl64k4lm0000gn/T/ipykernel_67110/2671142205.py:28: DeprecationWarning: The 'backend' keyword arguments are deprecated as of qiskit-ibm-runtime 0.24.0 and will be removed no sooner than 3 months after the release date. Please use the 'mode' parameter instead.\n",
      "  estimator = Estimator(backend=backend, options=options)\n"
     ]
    }
   ],
   "source": [
    "from qiskit_ibm_runtime import EstimatorOptions\n",
    "\n",
    "options = EstimatorOptions(optimization_level=0, resilience_level=0)\n",
    "\n",
    "# Configure Dynamical Decoupling\n",
    "options.dynamical_decoupling.enable = True\n",
    "options.dynamical_decoupling.sequence_type = 'XX'  \n",
    "options.dynamical_decoupling.extra_slack_distribution = 'middle'\n",
    "options.dynamical_decoupling.scheduling_method = 'alap'\n",
    "\n",
    "# Configure Twirling\n",
    "options.twirling.enable_gates = True\n",
    "options.twirling.enable_measure = True         # Needed for TREX\n",
    "options.twirling.num_randomizations = 'auto'\n",
    "options.twirling.shots_per_randomization = 'auto'\n",
    "options.twirling.strategy = 'active-accum'\n",
    "\n",
    "# Configure TREX\n",
    "options.resilience.measure_mitigation = True\n",
    "options.resilience.measure_noise_learning.num_randomizations =  32\n",
    "options.resilience.measure_noise_learning.shots_per_randomization = 'auto'\n",
    "\n",
    "# Configure ZNE\n",
    "options.resilience.zne_mitigation = True\n",
    "options.resilience.zne.noise_factors = (1, 3, 5)                  \n",
    "options.resilience.zne.extrapolator = 'exponential'\n",
    "\n",
    "estimator = Estimator(backend=backend, options=options)"
   ]
  }
 ],
 "metadata": {
  "kernelspec": {
   "display_name": "QGSS2024",
   "language": "python",
   "name": "python3"
  },
  "language_info": {
   "codemirror_mode": {
    "name": "ipython",
    "version": 3
   },
   "file_extension": ".py",
   "mimetype": "text/x-python",
   "name": "python",
   "nbconvert_exporter": "python",
   "pygments_lexer": "ipython3",
   "version": "3.12.4"
  }
 },
 "nbformat": 4,
 "nbformat_minor": 2
}
