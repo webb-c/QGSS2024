{
 "cells": [
  {
   "cell_type": "markdown",
   "metadata": {},
   "source": [
    "# Lecture 1.1: Intro to qiskit\n",
    "from IBM Quantum Computing QGSS2024"
   ]
  },
  {
   "cell_type": "markdown",
   "metadata": {},
   "source": [
    "## Qiskit Patterns:\n",
    "1. Map problem to quantum circuits and operators\n",
    "2. Optimize circuits for target hardware\n",
    "3. Execute on target hardware\n",
    "4. Postprocess results"
   ]
  },
  {
   "cell_type": "markdown",
   "metadata": {},
   "source": [
    "### Step 1. Map problem to quantum circuits and operators\n",
    "*Build a circuit with Qiskit SDK*"
   ]
  },
  {
   "cell_type": "code",
   "execution_count": null,
   "metadata": {},
   "outputs": [],
   "source": [
    "# 1. Import qiskit\n",
    "from qiskit import QuantumCircuit, QuantumRegister # type: ignore\n",
    "\n",
    "# 2. Initialize a register of qubits\n",
    "qubits = QuantumRegister(2, name=\"q\")\n",
    "\n",
    "# 3. Add the qubits to a circuit\n",
    "circuit = QuantumCircuit(qubits)\n",
    "\n",
    "q0, q1 = qubits\n",
    "\n",
    "# 4. Perform operations on those qubits\n",
    "circuit.h(q0)\n",
    "circuit.cx(q0, q1)\n",
    "circuit.measure_all()\n",
    "\n",
    "circuit.draw(\"mpl\")"
   ]
  },
  {
   "cell_type": "markdown",
   "metadata": {},
   "source": [
    "### 2. Optimize circuits for target hardware"
   ]
  },
  {
   "cell_type": "markdown",
   "metadata": {},
   "source": [
    "#### 2.1 Transpile \n",
    "*Transpile a circuit with Qiskit SDK*"
   ]
  },
  {
   "cell_type": "code",
   "execution_count": null,
   "metadata": {},
   "outputs": [],
   "source": [
    "from qiskit.transpiler.preset_passmanagers import generate_preset_pass_manager\n",
    "from qiskit_ibm_runtime import QiskitRuntimeService\n",
    "\n",
    "service = QiskitRuntimeService()\n",
    "\n",
    "# 1. Choose which device backend you want to target\n",
    "backend = service.backend(\"ibm_osaka\")\n",
    "\n",
    "# 2. Create a preset staged pass manager with your desired optimization level\n",
    "## higher optimization level is better transpile abstract circuit to ISA circuit, but more delay occur\n",
    "pass_manager = generate_preset_pass_manager(optimization_level=3, backend=backend)\n",
    "\n",
    "# 3. Run the staged pass manager on the circuit\n",
    "isa_circuit = pass_manager.run(circuit)\n",
    "\n",
    "isa_circuit.draw(\"mpl\", idle_wires=False)"
   ]
  },
  {
   "cell_type": "markdown",
   "metadata": {},
   "source": [
    "#### 2.2 Simulation\n",
    "*Simulation a small circuit with Qiskit Runtime Service*"
   ]
  },
  {
   "cell_type": "code",
   "execution_count": null,
   "metadata": {},
   "outputs": [],
   "source": [
    "from qiskit_ibm_runtime import SamplerV2 as Sampler\n",
    "from qiskit_ibm_runtime.fake_provider import FakeManilaV2\n",
    "\n",
    "# Run the sampler job locally using FakeManilaV2\n",
    "fake_backend = FakeManilaV2()\n",
    "fake_pass_manager = generate_preset_pass_manager(backend=fake_backend, optimization_level=1)\n",
    "fake_isa_circuit = fake_pass_manager.run(circuit)\n",
    "\n",
    "# You can use a fixed seed to get fixed results: fake_machine implement quantum state -> probabilistic state (via random library)\n",
    "fake_options = {\"simulator\": {\"seed_simulator\": 42}}\n",
    "fake_sampler = Sampler(backend=fake_backend, options=fake_options)\n",
    "\n",
    "fake_result = fake_sampler.run([fake_isa_circuit]).result()"
   ]
  },
  {
   "cell_type": "markdown",
   "metadata": {},
   "source": [
    "### 3. Execute on target hardware\n",
    "\n",
    "Qiskit provide two-type of Primitive: Sampler and Estimator"
   ]
  },
  {
   "cell_type": "markdown",
   "metadata": {},
   "source": [
    "#### 3.1 Sampler\n",
    "\n",
    "*To run a circuit on quantum hardware*"
   ]
  },
  {
   "cell_type": "code",
   "execution_count": null,
   "metadata": {},
   "outputs": [],
   "source": [
    "import numpy as np\n",
    "from qiskit.circuit.library import IQP\n",
    "from qiskit.quantum_info import random_hermitian\n",
    "from qiskit_ibm_runtime import SamplerV2 as Sampler\n",
    "\n",
    "# 1. Initialize the Qiskit Runtime service\n",
    "service = QiskitRuntimeService()\n",
    "\n",
    "# 2. Choose a hardware backend\n",
    "## It's a good option to select device more comfortable -> least_busy()\n",
    "backend = service.least_busy(operational=True, simulator=False, min_num_qubits=127)\n",
    "\n",
    "\n",
    "n_qubits = 127\n",
    "mat = np.real(random_hermitian(n_qubits, seed=42))\n",
    "circuit = IQP(mat)\n",
    "circuit.measure_all()\n",
    "\n",
    "pass_manager = generate_preset_pass_manager(backend=backend, optimization_level=1)\n",
    "isa_circuit = pass_manager.run(circuit)\n",
    "\n",
    "# 3. Initialize a Qiskit Runtime primitive with your chosen backend \n",
    "sampler = Sampler(backend)\n",
    "\n",
    "# 4. Invoke the primitive with your circuit\n",
    "job = sampler.run([isa_circuit])\n",
    "result = job.result()"
   ]
  },
  {
   "cell_type": "markdown",
   "metadata": {},
   "source": [
    "#### 3.2 Estimator\n",
    "\n",
    "*To run a circuit on quantum hardware*"
   ]
  },
  {
   "cell_type": "code",
   "execution_count": null,
   "metadata": {},
   "outputs": [],
   "source": [
    "import numpy as np\n",
    "from qiskit.circuit.library import IQP\n",
    "from qiskit.transpiler.preset_passmanagers import generate_preset_pass_manager\n",
    "from qiskit.quantum_info import SparsePauliOp, random_hermitian\n",
    "from qiskit_ibm_runtime import EstimatorV2 as Estimator\n",
    "\n",
    "# 1. Initialize the Qiskit Runtime service\n",
    "# service = QiskitRuntimeService()\n",
    "\n",
    "# 2. Choose a hardware backend\n",
    "## It's a good option to select device more comfortable -> least_busy()\n",
    "# backend = service.least_busy(operational=True, simulator=False, min_num_qubits=127)\n",
    "\n",
    "n_qubits = 127\n",
    "\n",
    "mat = np.real(random_hermitian(n_qubits, seed=42))\n",
    "circuit = IQP(mat)\n",
    "circuit.measure_all()\n",
    "\n",
    "pass_manager = generate_preset_pass_manager(backend=backend, optimization_level=1)\n",
    "isa_circuit = pass_manager.run(circuit)\n",
    "\n",
    "# 3. Initialize a Qiskit Runtime primitive with your chosen backend \n",
    "estimator = Estimator(backend)\n",
    "observable = SparsePauliOp(\"Z\" * n_qubits)\n",
    "isa_observable = observable.apply_layout(isa_circuit.layout)\n",
    "\n",
    "# 4. Invoke the primitive with your circuit\n",
    "job = estimator.run([(isa_circuit, isa_observable)])\n",
    "est_result = job.result()\n",
    "\n",
    "# print(f\" > Expectation value: {est_result[0].data.evs}\")\n",
    "# print(f\" > Metadata: {est_result[0].metadata}\")"
   ]
  },
  {
   "cell_type": "markdown",
   "metadata": {},
   "source": [
    "### Interlude: Execution modes\n",
    "- single job\n",
    "- Batch: multiple concurrent jobs\n",
    "- Session: iterative workload"
   ]
  },
  {
   "cell_type": "code",
   "execution_count": null,
   "metadata": {},
   "outputs": [],
   "source": [
    "# Batch mode\n",
    "from qiskit_ibm_runtime import SamplerV2 as Sampler, Batch\n",
    "\n",
    "max_circuits = 100\n",
    "all_partitioned_circuits = []\n",
    "\n",
    "for i in range(0, len(circuits), max_circuits):\n",
    "    all_partitioned_circuits.append(circuits[i : i + max_circuits])\n",
    "\n",
    "jobs = []\n",
    "start_idx = 0\n",
    "\n",
    "with Batch(backend=backend):\n",
    "    sampler = Sampler()\n",
    "    for partitioned_circuits in all_partitioned_circuits:\n",
    "        job = sampler.run(partitioned_circuits)\n",
    "        jobs.append(job)"
   ]
  },
  {
   "cell_type": "code",
   "execution_count": null,
   "metadata": {},
   "outputs": [],
   "source": [
    "# Session mode\n",
    "from qiskit_ibm_runtime import EstimatorV2 as Estimator, Session\n",
    "\n",
    "jobs= []\n",
    "\n",
    "with Session(backend=backend):\n",
    "    estimator = Sampler()\n",
    "    for partitioned_circuits in all_partitioned_circuits:\n",
    "        job = sampler.run(partitioned_circuits)\n",
    "        jobs.append(job)"
   ]
  },
  {
   "cell_type": "markdown",
   "metadata": {},
   "source": [
    "### 4. Postprocess results\n",
    "1. visualize results\n",
    "2. post-selection\n",
    "3. circuit knitting"
   ]
  }
 ],
 "metadata": {
  "kernelspec": {
   "display_name": "QGSS2024",
   "language": "python",
   "name": "python3"
  },
  "language_info": {
   "codemirror_mode": {
    "name": "ipython",
    "version": 3
   },
   "file_extension": ".py",
   "mimetype": "text/x-python",
   "name": "python",
   "nbconvert_exporter": "python",
   "pygments_lexer": "ipython3",
   "version": "3.12.4"
  }
 },
 "nbformat": 4,
 "nbformat_minor": 2
}
