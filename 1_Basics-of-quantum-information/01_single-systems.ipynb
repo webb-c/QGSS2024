{
 "cells": [
  {
   "cell_type": "markdown",
   "metadata": {},
   "source": [
    "# Lecture 1: Single systems\n",
    "from IBM Quantum Computing: Basics of Quantum Information ([Ref Here!](https://learning.quantum.ibm.com/course/basics-of-quantum-information/single-systems))"
   ]
  },
  {
   "cell_type": "markdown",
   "metadata": {},
   "source": [
    "### Vectors and matrices in Python\n",
    "\n",
    "아래 코드는 python에서 벡터와 행렬을 정의하고, 연산을 수행하는 방법을 소개한다.   \n",
    "Quantum Computing에 친숙해지기 위해 가장 기본적인 outcome인 $\\ket 0$과 $\\ket 1$ ket-vector를 이용해보자."
   ]
  },
  {
   "cell_type": "markdown",
   "metadata": {},
   "source": [
    "python에서 주로 `numpy`라는 라이브러리를 사용하여 행렬, 벡터 연산을 다룬다. 기본적인 행렬/벡터는 `array()`를 이용하여 정의한다.\n",
    "\n",
    "$$\\ket {0} =\\begin{pmatrix} 1 \\\\ 0 \\end{pmatrix}, \\qquad \\ket {1} =\\begin{pmatrix} 0 \\\\ 1 \\end{pmatrix}$$"
   ]
  },
  {
   "cell_type": "code",
   "execution_count": 1,
   "metadata": {},
   "outputs": [
    {
     "data": {
      "text/plain": [
       "array([0.5, 0.5])"
      ]
     },
     "metadata": {},
     "output_type": "display_data"
    }
   ],
   "source": [
    "import numpy as np\n",
    "\n",
    "ket0 = np.array([1, 0]) \n",
    "ket1 = np.array([0, 1]) \n",
    "\n",
    "display(ket0 / 2 + ket1 / 2)"
   ]
  },
  {
   "cell_type": "markdown",
   "metadata": {},
   "source": [
    "`array()`의 인자로 **같은 row에 있는 entry끼리 리스트로 묶어서** 전달한다. mathematical notation과 헷갈리지 않도록 유의하자."
   ]
  },
  {
   "cell_type": "markdown",
   "metadata": {},
   "source": [
    "$$M_1 =\\begin{pmatrix} 1 & 1 \\\\ 0 & 0 \\end{pmatrix}, \\qquad M_2 = \\begin{pmatrix} 1 & 1 \\\\ 1 & 0\\end{pmatrix}$$"
   ]
  },
  {
   "cell_type": "code",
   "execution_count": 3,
   "metadata": {},
   "outputs": [
    {
     "data": {
      "text/plain": [
       "array([[1. , 1. ],\n",
       "       [0.5, 0. ]])"
      ]
     },
     "execution_count": 3,
     "metadata": {},
     "output_type": "execute_result"
    }
   ],
   "source": [
    "M1 = np.array([[1, 1], [0, 0]])\n",
    "M2 = np.array([[1, 1], [1, 0]])\n",
    "\n",
    "M1 / 2 + M2 / 2"
   ]
  },
  {
   "cell_type": "markdown",
   "metadata": {},
   "source": [
    "`matmul()`의 안지로 matrix multiplication을 수행할 vector, 또는 matrix를 전달한다. 당연히 피연산자들의 곱해지는 차원이 같도록 맞추어주어야 한다. "
   ]
  },
  {
   "cell_type": "code",
   "execution_count": 4,
   "metadata": {},
   "outputs": [
    {
     "data": {
      "text/plain": [
       "array([1, 0])"
      ]
     },
     "metadata": {},
     "output_type": "display_data"
    },
    {
     "data": {
      "text/plain": [
       "array([[2, 1],\n",
       "       [0, 0]])"
      ]
     },
     "metadata": {},
     "output_type": "display_data"
    },
    {
     "data": {
      "text/plain": [
       "array([[1, 1],\n",
       "       [1, 1]])"
      ]
     },
     "metadata": {},
     "output_type": "display_data"
    }
   ],
   "source": [
    "display(np.matmul(M1, ket1))\n",
    "display(np.matmul(M1, M2))\n",
    "display(np.matmul(M2, M1))"
   ]
  },
  {
   "cell_type": "markdown",
   "metadata": {},
   "source": [
    "### Qiskit state-vector"
   ]
  },
  {
   "cell_type": "markdown",
   "metadata": {},
   "source": [
    "아래코드는 quantum computing을 위해 IBM에서 제공하는 SDK `qiskit`을 사용하여 statevector를 다루는 방법을 소개한다. 기본적으로 3차원 공간에 있는 스핀을 표현하기 위해 각 axis별로 2가지 스핀값을 가지므로, 총 6개의 명백한 state가 존재한다. (e.g., $\\ket u, \\ket d, \\ket r, \\ket l, \\ket i, \\ket o$)  \n",
    "\n",
    "그 외에도 arbitrary quantum state vector를 나타내기 위해 $\\ket \\psi$ 표현을 이용하며, 이때 state vector는 다음 2가지 조건을 만족해야한다.  \n",
    "- 각 entry는 complex number를 가진다.\n",
    "- 각 entry 값의 제곱의 합은 1이 되어야한다."
   ]
  },
  {
   "cell_type": "code",
   "execution_count": 5,
   "metadata": {},
   "outputs": [
    {
     "name": "stdout",
     "output_type": "stream",
     "text": [
      "State vectors u, v, and w have been defined.\n"
     ]
    }
   ],
   "source": [
    "from qiskit.quantum_info import Statevector\n",
    "\n",
    "u = Statevector([1 / np.sqrt(2), 1 / np.sqrt(2)])\n",
    "v = Statevector([(1 + 2.0j) / 3, -2 / 3])\n",
    "w = Statevector([1 / 3, 2 / 3])\n",
    "\n",
    "print(\"State vectors u, v, and w have been defined.\")"
   ]
  },
  {
   "cell_type": "code",
   "execution_count": 21,
   "metadata": {},
   "outputs": [
    {
     "data": {
      "text/latex": [
       "$$\\frac{\\sqrt{2}}{2} |0\\rangle+\\frac{\\sqrt{2}}{2} |1\\rangle$$"
      ],
      "text/plain": [
       "<IPython.core.display.Latex object>"
      ]
     },
     "metadata": {},
     "output_type": "display_data"
    },
    {
     "data": {
      "text/latex": [
       "$$(0.8535533906 + 0.3535533906 i) |0\\rangle+(-0.3535533906 + 0.1464466094 i) |1\\rangle$$"
      ],
      "text/plain": [
       "<IPython.core.display.Latex object>"
      ]
     },
     "metadata": {},
     "output_type": "display_data"
    },
    {
     "data": {
      "text/latex": [
       "$$\\frac{1}{3} |0\\rangle+\\frac{2}{3} |1\\rangle$$"
      ],
      "text/plain": [
       "<IPython.core.display.Latex object>"
      ]
     },
     "metadata": {},
     "output_type": "display_data"
    }
   ],
   "source": [
    "display(u.draw(\"latex\"))\n",
    "display(v.draw(\"latex\"))\n",
    "display(w.draw(\"latex\"))"
   ]
  },
  {
   "cell_type": "code",
   "execution_count": 23,
   "metadata": {},
   "outputs": [
    {
     "data": {
      "text/plain": [
       "[0.70710678+0.j,0.70710678+0.j]"
      ]
     },
     "metadata": {},
     "output_type": "display_data"
    },
    {
     "data": {
      "text/plain": [
       "[ 0.85355339+0.35355339j,-0.35355339+0.14644661j]"
      ]
     },
     "metadata": {},
     "output_type": "display_data"
    },
    {
     "data": {
      "text/plain": [
       "[0.33333333+0.j,0.66666667+0.j]"
      ]
     },
     "metadata": {},
     "output_type": "display_data"
    }
   ],
   "source": [
    "display(u.draw(\"text\"))\n",
    "display(v.draw(\"text\"))\n",
    "display(w.draw(\"text\"))"
   ]
  },
  {
   "cell_type": "markdown",
   "metadata": {},
   "source": [
    "`qiskit`이 제공하는 `Statevector` 클래스를 사용하여 quantum state vector를 정의하면, 현재 값이 state vector가 만족해야하는 2가지 성질을 모두 만족하는지를 확인하여, valid한 값인지 아닌지를 확인할 수 있다."
   ]
  },
  {
   "cell_type": "code",
   "execution_count": 24,
   "metadata": {},
   "outputs": [
    {
     "data": {
      "text/plain": [
       "True"
      ]
     },
     "metadata": {},
     "output_type": "display_data"
    },
    {
     "data": {
      "text/plain": [
       "True"
      ]
     },
     "metadata": {},
     "output_type": "display_data"
    },
    {
     "data": {
      "text/plain": [
       "False"
      ]
     },
     "metadata": {},
     "output_type": "display_data"
    }
   ],
   "source": [
    "display(u.is_valid())\n",
    "display(v.is_valid())\n",
    "display(w.is_valid()) # (1/3)^2 + (2/3)^2 = 1/9 + 4/9 = 5/9 < 1"
   ]
  },
  {
   "cell_type": "code",
   "execution_count": 29,
   "metadata": {},
   "outputs": [
    {
     "data": {
      "text/latex": [
       "$$(\\frac{1}{3} + \\frac{2 i}{3}) |0\\rangle- \\frac{2}{3} |1\\rangle$$"
      ],
      "text/plain": [
       "<IPython.core.display.Latex object>"
      ]
     },
     "execution_count": 29,
     "metadata": {},
     "output_type": "execute_result"
    }
   ],
   "source": [
    "v = Statevector([(1 + 2.0j) / 3, -2 / 3])\n",
    "v.draw(\"latex\")"
   ]
  },
  {
   "cell_type": "markdown",
   "metadata": {},
   "source": [
    "또한 선언한 `Statevector`의 method `measure()`을 이용하여 해당 quantum state vector를 측정하여 하나의 outcome; classical state vector 값을 얻을 수 있다.  \n",
    "\n",
    "앞에서 선언한 v state를 측정하면, $\\frac{5}{9}$의 확률로 $0$값을 얻고 quantum state는 $\\ket 0$으로 transition하며, $\\frac{4}{9}$의 확률로 $1$ 값을 얻고 quantum state는 $\\ket 1$ transition한다. "
   ]
  },
  {
   "cell_type": "code",
   "execution_count": 30,
   "metadata": {},
   "outputs": [
    {
     "data": {
      "text/plain": [
       "(np.str_('0'),\n",
       " Statevector([0.4472136+0.89442719j, 0.       +0.j        ],\n",
       "             dims=(2,)))"
      ]
     },
     "execution_count": 30,
     "metadata": {},
     "output_type": "execute_result"
    }
   ],
   "source": [
    "v.measure()"
   ]
  },
  {
   "cell_type": "markdown",
   "metadata": {},
   "source": [
    "위 측정과정을 여러번 샘플링 할 수 있게 해주는 것이 `sample_counts()`이며, 인자로 샘플링을 수행할 횟수를 전달할 수 있다. 실험 결과를 시각화하면, 각 outcome이 나타난 확률이 quantum state의 coefficient의 제곱의 절댓값과 유사함을 알 수 있다.   "
   ]
  },
  {
   "cell_type": "code",
   "execution_count": 31,
   "metadata": {},
   "outputs": [
    {
     "data": {
      "text/plain": [
       "{np.str_('0'): np.int64(563), np.str_('1'): np.int64(437)}"
      ]
     },
     "metadata": {},
     "output_type": "display_data"
    },
    {
     "data": {
      "image/png": "[encoded data removed]",
      "text/plain": [
       "<Figure size 640x480 with 1 Axes>"
      ]
     },
     "execution_count": 31,
     "metadata": {},
     "output_type": "execute_result"
    }
   ],
   "source": [
    "from qiskit.visualization import plot_histogram\n",
    "\n",
    "statistics = v.sample_counts(1000)\n",
    "display(statistics)\n",
    "plot_histogram(statistics)"
   ]
  },
  {
   "cell_type": "markdown",
   "metadata": {},
   "source": [
    "### Qiskit Unitary Operator\n",
    "\n",
    "##### Pauli Gate\n",
    "$$I = \\begin{pmatrix} 1 & 0 \\\\ 0 & 1 \\end{pmatrix},\\qquad \\mathbf X = \\begin{pmatrix} 0 & 1 \\\\ 1 & 0 \\end{pmatrix}, \\qquad \\mathbf Y = \\begin{pmatrix} 0 & -i \\\\ i & 0 \\end{pmatrix}, \\qquad \\mathbf Z = \\begin{pmatrix} 1 & 0 \\\\ 9 & -1\\end{pmatrix}$$\n",
    "\n",
    "##### Hadamard Gate\n",
    "$$\\mathbf H = \\begin{pmatrix} \\frac{1}{\\sqrt 2} & \\frac{1}{\\sqrt 2} \\\\ \\frac{1}{\\sqrt 2} & -\\frac{1}{\\sqrt 2}\\end{pmatrix}$$\n",
    "\n",
    "##### Phase Gate\n",
    "$$\\mathbf P_{\\theta} = \\begin{pmatrix} 1 & 0 \\\\ 0 & e^{i\\theta}\\end{pmatrix}$$\n",
    "\n",
    "_special case_\n",
    "$$\\mathbf S  = \\mathbf P_{\\pi/2} = \\begin{pmatrix} 1 & 0 \\\\ 0 & i\\end{pmatrix}, \\qquad \n",
    "\\mathbf T = \\mathbf P_{\\pi/4} = \\begin{pmatrix} 1 & 0 \\\\ 0 & \\frac{1+i}{\\sqrt 2}\\end{pmatrix}$$"
   ]
  },
  {
   "cell_type": "markdown",
   "metadata": {},
   "source": [
    "`Qiskit`에서는 quantum state에 적용되는 operator 또한 `Operator` 클래스를 사용하여 직접 정의할 수 있다. "
   ]
  },
  {
   "cell_type": "code",
   "execution_count": 33,
   "metadata": {},
   "outputs": [
    {
     "data": {
      "text/plain": [
       "[ 0.85355339+0.35355339j,-0.35355339+0.14644661j]"
      ]
     },
     "execution_count": 33,
     "metadata": {},
     "output_type": "execute_result"
    }
   ],
   "source": [
    "from qiskit.quantum_info import Operator\n",
    "import numpy as np\n",
    "\n",
    "X = Operator([[0, 1], [1, 0]])\n",
    "Y = Operator([[0, -1.0j], [1.0j, 0]])\n",
    "Z = Operator([[1, 0], [0, -1]])\n",
    "H = Operator([[1 / np.sqrt(2), 1 / np.sqrt(2)], [1 / np.sqrt(2), -1 / np.sqrt(2)]])\n",
    "S = Operator([[1, 0], [0, 1.0j]])\n",
    "T = Operator([[1, 0], [0, (1 + 1.0j) / np.sqrt(2)]])\n",
    "\n",
    "v = Statevector([1, 0])\n",
    "\n",
    "v = v.evolve(H)\n",
    "v = v.evolve(T)\n",
    "v = v.evolve(H)\n",
    "v = v.evolve(T)\n",
    "v = v.evolve(Z)\n",
    "\n",
    "v.draw(\"text\")"
   ]
  },
  {
   "cell_type": "markdown",
   "metadata": {},
   "source": [
    "반면, `QuantumCircuit` 클래스를 사용하면 직접 회로 객체를 생성할 수 있다. 생성할 때 인자로는 circuit에 사용할 큐비트의 개수를 넣어주면 된다.\n",
    "`QuantumCircuit`클래스에는 quantum computing에서 자주 사용되는 Unitary Operator가 미리 다 정의되었기 때문에, 생성한 객체에서 method로 접근하여 게이트를 적용할 수 있다. \n",
    "\n",
    "이때, 게이트 method(e.g., `h()`, `t()`, ...)의 인자에는 게이트를 적용할 큐비트의 **인덱스**를 제공하면 된다. (0부터 시작)"
   ]
  },
  {
   "cell_type": "code",
   "execution_count": 34,
   "metadata": {},
   "outputs": [
    {
     "data": {
      "image/png": "[encoded data removed]",
      "text/plain": [
       "<Figure size 519.897x117.056 with 1 Axes>"
      ]
     },
     "execution_count": 34,
     "metadata": {},
     "output_type": "execute_result"
    }
   ],
   "source": [
    "from qiskit import QuantumCircuit\n",
    "\n",
    "circuit = QuantumCircuit(1)\n",
    "\n",
    "circuit.h(0)\n",
    "circuit.t(0)\n",
    "circuit.h(0)\n",
    "circuit.t(0)\n",
    "circuit.z(0)\n",
    "\n",
    "circuit.draw(output='mpl')"
   ]
  },
  {
   "cell_type": "markdown",
   "metadata": {},
   "source": [
    "사전에 큐비트의 값을 특정한 quantum state vector로 초기화한 뒤, 그 벡터에서 `evolve()` 메소드를 호출하여 회로를 적용시킨 결과로 만들어지는 quantum state vector 값을 얻을 수 있다. "
   ]
  },
  {
   "cell_type": "markdown",
   "metadata": {},
   "source": [
    "$$\\mathbf v = ZTHTH\\ket 0$$"
   ]
  },
  {
   "cell_type": "code",
   "execution_count": 19,
   "metadata": {},
   "outputs": [
    {
     "data": {
      "text/plain": [
       "[ 0.85355339+0.35355339j,-0.35355339+0.14644661j]"
      ]
     },
     "execution_count": 19,
     "metadata": {},
     "output_type": "execute_result"
    }
   ],
   "source": [
    "ket0 = Statevector([1, 0])\n",
    "v = ket0.evolve(circuit)\n",
    "v.draw(\"text\")"
   ]
  },
  {
   "cell_type": "code",
   "execution_count": 20,
   "metadata": {},
   "outputs": [
    {
     "data": {
      "image/png": "[encoded data removed]",
      "text/plain": [
       "<Figure size 640x480 with 1 Axes>"
      ]
     },
     "execution_count": 20,
     "metadata": {},
     "output_type": "execute_result"
    }
   ],
   "source": [
    "statistics = v.sample_counts(4000)\n",
    "plot_histogram(statistics)"
   ]
  }
 ],
 "metadata": {
  "kernelspec": {
   "display_name": "QGSS2024",
   "language": "python",
   "name": "python3"
  },
  "language_info": {
   "codemirror_mode": {
    "name": "ipython",
    "version": 3
   },
   "file_extension": ".py",
   "mimetype": "text/x-python",
   "name": "python",
   "nbconvert_exporter": "python",
   "pygments_lexer": "ipython3",
   "version": "3.12.4"
  }
 },
 "nbformat": 4,
 "nbformat_minor": 2
}
